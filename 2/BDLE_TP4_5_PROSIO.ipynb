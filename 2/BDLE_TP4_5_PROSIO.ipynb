{
 "cells": [
  {
   "cell_type": "markdown",
   "metadata": {
    "application/vnd.databricks.v1+cell": {
     "inputWidgets": {},
     "nuid": "2fcea654-56eb-4219-a555-b7635dc8ec23",
     "showTitle": false,
     "title": ""
    },
    "id": "5T30y-4iGpLZ"
   },
   "source": [
    "BDLE 2022\n",
    "\n",
    "date du document  :  16/12/2022"
   ]
  },
  {
   "cell_type": "markdown",
   "metadata": {
    "application/vnd.databricks.v1+cell": {
     "inputWidgets": {},
     "nuid": "538800ba-6d08-40a7-b6b6-829b40085742",
     "showTitle": false,
     "title": ""
    },
    "id": "L_q0KahUGpLc"
   },
   "source": [
    "# TP 9 et 10 : traitement sur des partitions : tri, regroupement, fenetre, jointure\n",
    "Version ETUDIANT\n",
    "\n"
   ]
  },
  {
   "cell_type": "markdown",
   "metadata": {
    "application/vnd.databricks.v1+cell": {
     "inputWidgets": {},
     "nuid": "b15737ae-19bd-4b9f-b9f3-52388cc5e50e",
     "showTitle": false,
     "title": ""
    },
    "id": "-Y0GaU3NHl9i"
   },
   "source": [
    "## Préparation"
   ]
  },
  {
   "cell_type": "markdown",
   "metadata": {
    "id": "eWdhTV1yHl9k"
   },
   "source": [
    "Pour accéder directement aux fichiers stockées sur votre google drive. Renseigner le code d'authentification lorsqu'il est demandé\n",
    "\n",
    "Ajuster le nom de votre dossier : MyDrive/essai"
   ]
  },
  {
   "cell_type": "code",
   "execution_count": 2,
   "metadata": {
    "id": "nG1-sqgGHl9l"
   },
   "outputs": [],
   "source": [
    "# import os\n",
    "# from google.colab import drive\n",
    "# drive.mount(\"/content/drive\")\n",
    "\n",
    "# drive_dir = \"/content/drive/MyDrive/essai\"\n",
    "# os.makedirs(drive_dir, exist_ok=True)\n",
    "# os.listdir(drive_dir)"
   ]
  },
  {
   "cell_type": "markdown",
   "metadata": {
    "id": "fvQXsAZxHl9m"
   },
   "source": [
    "Installer pyspark et findspark :\n"
   ]
  },
  {
   "cell_type": "code",
   "execution_count": 3,
   "metadata": {
    "colab": {
     "base_uri": "https://localhost:8080/"
    },
    "id": "7525-vBbHl9n",
    "outputId": "08c88d37-e738-4304-f758-86bbae25a804"
   },
   "outputs": [
    {
     "name": "stdout",
     "output_type": "stream",
     "text": [
      "\u001b[K     |████████████████████████████████| 281.4 MB 37 kB/s \n",
      "\u001b[K     |████████████████████████████████| 199 kB 58.7 MB/s \n",
      "\u001b[?25h  Building wheel for pyspark (setup.py) ... \u001b[?25l\u001b[?25hdone\n",
      "installé\n"
     ]
    }
   ],
   "source": [
    "!pip install -q pyspark\n",
    "!pip install -q findspark\n",
    "print(\"installé\")"
   ]
  },
  {
   "cell_type": "markdown",
   "metadata": {
    "id": "fF6UPhM5Hl9o"
   },
   "source": [
    "Démarrer la session spark"
   ]
  },
  {
   "cell_type": "code",
   "execution_count": 4,
   "metadata": {
    "id": "xxw_oyziHl9p"
   },
   "outputs": [],
   "source": [
    "import os\n",
    "# !find /usr/local/lib/ -name \"pyspark\" \n",
    "os.environ[\"SPARK_HOME\"] = \"/usr/local/lib/python3.8/dist-packages/pyspark\"\n",
    "os.environ[\"JAVA_HOME\"] = \"/usr\""
   ]
  },
  {
   "cell_type": "code",
   "execution_count": 5,
   "metadata": {
    "colab": {
     "base_uri": "https://localhost:8080/"
    },
    "id": "D-2pi_Y-Hl9q",
    "outputId": "97c0fa04-4747-4f0f-e260-92691e498f17"
   },
   "outputs": [
    {
     "name": "stdout",
     "output_type": "stream",
     "text": [
      "session démarrée, son id est  local-1672756012689\n"
     ]
    }
   ],
   "source": [
    "# Principaux import\n",
    "import findspark\n",
    "from pyspark.sql import SparkSession \n",
    "from pyspark import SparkConf  \n",
    "\n",
    "# pour les dataframe et udf\n",
    "from pyspark.sql import *  \n",
    "from pyspark.sql.functions import *\n",
    "from pyspark.sql.types import *\n",
    "from datetime import *\n",
    "\n",
    "# pour le chronomètre\n",
    "import time\n",
    "\n",
    "# initialise les variables d'environnement pour spark\n",
    "findspark.init()\n",
    "\n",
    "# Démarrage session spark \n",
    "# --------------------------\n",
    "def demarrer_spark():\n",
    "  local = \"local[*]\"\n",
    "  appName = \"TP\"\n",
    "  configLocale = SparkConf().setAppName(appName).setMaster(local).\\\n",
    "  set(\"spark.executor.memory\", \"6G\").\\\n",
    "  set(\"spark.driver.memory\",\"3G\").\\\n",
    "  set(\"spark.sql.catalogImplementation\",\"in-memory\")\n",
    "  \n",
    "  spark = SparkSession.builder.config(conf = configLocale).getOrCreate()\n",
    "  sc = spark.sparkContext\n",
    "  sc.setLogLevel(\"ERROR\")\n",
    "  \n",
    "  spark.conf.set(\"spark.sql.autoBroadcastJoinThreshold\",\"-1\")\n",
    "\n",
    "  # On ajuste l'environnement d'exécution des requêtes à la taille du cluster (4 coeurs)\n",
    "  spark.conf.set(\"spark.sql.shuffle.partitions\",\"4\")    \n",
    "  print(\"session démarrée, son id est \", sc.applicationId)\n",
    "  return spark\n",
    "spark = demarrer_spark()"
   ]
  },
  {
   "cell_type": "markdown",
   "metadata": {
    "id": "TaQdWpgxHl9r"
   },
   "source": [
    "Redéfinir la fonction **display** pour afficher le resutltat des requêtes dans un tableau"
   ]
  },
  {
   "cell_type": "code",
   "execution_count": 7,
   "metadata": {
    "id": "nefZmIGZHl9s"
   },
   "outputs": [],
   "source": [
    "import pandas as pd\n",
    "from google.colab import data_table\n",
    "\n",
    "# alternatives to Databricks display function.\n",
    "\n",
    "def display(df, n=100):\n",
    "  return data_table.DataTable(df.limit(n).toPandas(), include_index=False, num_rows_per_page=10)\n",
    "\n",
    "def display2(df, n=20):\n",
    "  pd.set_option('max_columns', None)\n",
    "  pd.set_option('max_colwidth', None)\n",
    "  return df.limit(n).toPandas().head(n)"
   ]
  },
  {
   "cell_type": "markdown",
   "metadata": {
    "id": "9VQM9DwnHl9s"
   },
   "source": [
    "Définir le tag **%%sql** pour pouvoir écrire plus simplement des requêtes en SQL dans une cellule"
   ]
  },
  {
   "cell_type": "code",
   "execution_count": 8,
   "metadata": {
    "id": "urHtMqzPHl9t"
   },
   "outputs": [],
   "source": [
    "from IPython.core.magic import (register_line_magic, register_cell_magic, register_line_cell_magic)\n",
    "\n",
    "def removeComments(query):\n",
    "  result = \"\"\n",
    "  for line in query.split('\\n'):\n",
    "    if not(line.strip().startswith(\"--\")):\n",
    "      result += line + \"\\n\"\n",
    "  return result\n",
    "\n",
    "@register_line_cell_magic\n",
    "def sql(line, cell=None):\n",
    "    \"To run a sql query. Use:  %%sql\"\n",
    "    val = cell if cell is not None else line\n",
    "    tabRequetes = removeComments(val).split(\";\")\n",
    "    derniere = None\n",
    "    est_requete = False\n",
    "    for r in tabRequetes:\n",
    "        r = r.strip()\n",
    "        if len(r) > 2:\n",
    "          derniere = spark.sql(r)\n",
    "          est_requete = ( r.lower().startswith('select') or r.lower().startswith('with') )\n",
    "    if(est_requete):\n",
    "      return display(derniere)\n",
    "    else:\n",
    "      return print('ok')"
   ]
  },
  {
   "cell_type": "markdown",
   "metadata": {
    "id": "qEaGh4djHl9u"
   },
   "source": [
    "Utiliaires : Chronomètres"
   ]
  },
  {
   "cell_type": "code",
   "execution_count": 9,
   "metadata": {
    "application/vnd.databricks.v1+cell": {
     "inputWidgets": {},
     "nuid": "a6272df1-b406-40d0-b5df-0df8dacb430b",
     "showTitle": false,
     "title": ""
    },
    "colab": {
     "base_uri": "https://localhost:8080/"
    },
    "id": "Vvu1aNbcHl9v",
    "outputId": "127ae6b3-bce0-48c4-f014-51c3eb9f78e7"
   },
   "outputs": [
    {
     "name": "stdout",
     "output_type": "stream",
     "text": [
      "fonctions définies\n"
     ]
    }
   ],
   "source": [
    "#------------------------------\n",
    "# Chronometre : chronoPersist2\n",
    "#------------------------------\n",
    "import time\n",
    "\n",
    "# Ce chronometre garantit que chaque tuple du dataframe est lu entièrement.\n",
    "# En effet il est nécessaire de lire le détail de chaque tuple avant de les 'copier' en mémoire.\n",
    "def chronoPersist(df):\n",
    "    df.unpersist()\n",
    "    t1 = time.perf_counter()\n",
    "    count = df.persist().count()\n",
    "    t2 = time.perf_counter()\n",
    "    df.unpersist()\n",
    "    print('durée: {:.1f} s'.format(t2 - t1), 'pour lire', count , 'elements')\n",
    "\n",
    "def chronoPersist2(df):\n",
    "  dest = df.selectExpr(\"*\", \"1\")\n",
    "  t1 = time.perf_counter()\n",
    "  count = dest.persist().count()\n",
    "  t2 = time.perf_counter()\n",
    "  dest.unpersist()\n",
    "  print('durée: {:.1f} s'.format(t2 - t1), 'pour lire', count , 'elements')\n",
    "        \n",
    "def chronoCount(df):\n",
    "  t1 = time.perf_counter()\n",
    "  count = df.count()\n",
    "  t2 = time.perf_counter()\n",
    "  print('durée: {:.1f} s'.format(t2 - t1), 'pour dénombrer', count , 'elements')\n",
    "    \n",
    "print(\"fonctions définies\")"
   ]
  },
  {
   "cell_type": "markdown",
   "metadata": {
    "application/vnd.databricks.v1+cell": {
     "inputWidgets": {},
     "nuid": "b15737ae-19bd-4b9f-b9f3-52388cc5e50e",
     "showTitle": false,
     "title": ""
    },
    "id": "W1erQ-BPHl9w"
   },
   "source": [
    "## Accès aux données"
   ]
  },
  {
   "cell_type": "code",
   "execution_count": 10,
   "metadata": {
    "application/vnd.databricks.v1+cell": {
     "inputWidgets": {},
     "nuid": "5f7082b7-3297-469a-82c3-2e6aaf5acc22",
     "showTitle": false,
     "title": ""
    },
    "colab": {
     "base_uri": "https://localhost:8080/"
    },
    "id": "HN125F15Hl9x",
    "outputId": "2ef52a14-1b53-4cf4-f4d3-7dbd428714a7"
   },
   "outputs": [
    {
     "data": {
      "text/plain": [
       "[]"
      ]
     },
     "execution_count": 10,
     "metadata": {},
     "output_type": "execute_result"
    }
   ],
   "source": [
    "import os\n",
    "local_dir = \"/local/data\"\n",
    "os.makedirs(local_dir, exist_ok=True)\n",
    "os.listdir(local_dir)"
   ]
  },
  {
   "cell_type": "markdown",
   "metadata": {
    "application/vnd.databricks.v1+cell": {
     "inputWidgets": {},
     "nuid": "9b13d583-eac5-414c-b544-43024c76c144",
     "showTitle": false,
     "title": ""
    },
    "id": "_euMuqggHl9y"
   },
   "source": [
    "URL pour l'accès aux datasets"
   ]
  },
  {
   "cell_type": "code",
   "execution_count": 11,
   "metadata": {
    "application/vnd.databricks.v1+cell": {
     "inputWidgets": {},
     "nuid": "8a1fead0-61e4-4d04-a2c0-7858f767b0a1",
     "showTitle": false,
     "title": ""
    },
    "colab": {
     "base_uri": "https://localhost:8080/"
    },
    "id": "1Ecbk5uvHl9y",
    "outputId": "6d153fa9-9d05-41be-e43f-f4224b371b79"
   },
   "outputs": [
    {
     "name": "stdout",
     "output_type": "stream",
     "text": [
      "URL pour les datasets  https://nuage.lip6.fr/s/H3bpyRGgnCq2NR4\n"
     ]
    }
   ],
   "source": [
    "# ---------------------------------------------------------------------------\n",
    "# en cas de problème avec le téléchargement des datasets, aller directement sur l'URL ci-dessous\n",
    "PUBLIC_DATASET_URL = \"https://nuage.lip6.fr/s/H3bpyRGgnCq2NR4\" \n",
    "PUBLIC_DATASET=PUBLIC_DATASET_URL + \"/download?path=\"\n",
    "\n",
    "print(\"URL pour les datasets \", PUBLIC_DATASET_URL)"
   ]
  },
  {
   "cell_type": "code",
   "execution_count": 12,
   "metadata": {
    "colab": {
     "base_uri": "https://localhost:8080/"
    },
    "id": "g9wS-pm5jCIn",
    "outputId": "d2300707-1cfb-437a-fd30-755eeacb7996"
   },
   "outputs": [
    {
     "name": "stdout",
     "output_type": "stream",
     "text": [
      "/local/data\n",
      "unzip:  cannot find or open notes1M.zip, notes1M.zip.zip or notes1M.zip.ZIP.\n"
     ]
    }
   ],
   "source": [
    "%cd /local/data\n",
    "! unzip notes1M.zip"
   ]
  },
  {
   "cell_type": "code",
   "execution_count": 13,
   "metadata": {
    "colab": {
     "base_uri": "https://localhost:8080/"
    },
    "id": "kp0ndnBBHl90",
    "outputId": "dc4932d1-cf67-4acf-a19f-9a983c0cc7f9"
   },
   "outputs": [
    {
     "name": "stdout",
     "output_type": "stream",
     "text": [
      "downloading from URL:  https://nuage.lip6.fr/s/H3bpyRGgnCq2NR4/download?path=/movielens/notes1M.zip save in : /local/data/notes1M.zip\n",
      "downloading from URL:  https://nuage.lip6.fr/s/H3bpyRGgnCq2NR4/download?path=/movielens/ratings3M.zip save in : /local/data/ratings3M.zip\n",
      "downloading from URL:  https://nuage.lip6.fr/s/H3bpyRGgnCq2NR4/download?path=/movielens/films.json save in : /local/data/films.json\n",
      "downloading from URL:  https://nuage.lip6.fr/s/H3bpyRGgnCq2NR4/download?path=/movielens/ml-latest/movies.csv save in : /local/data/movies.csv\n"
     ]
    },
    {
     "data": {
      "text/plain": [
       "['ratings3M.zip',\n",
       " 'movies.csv',\n",
       " 'notes1M.zip',\n",
       " 'notes1M.json',\n",
       " 'films.json',\n",
       " 'ratings3M.csv']"
      ]
     },
     "execution_count": 13,
     "metadata": {},
     "output_type": "execute_result"
    }
   ],
   "source": [
    "import os\n",
    "from urllib import request\n",
    "import zipfile\n",
    "\n",
    "# download dataset if not already donwloaded\n",
    "def download_file(web_dir, local_dir, file):\n",
    "  local_file = local_dir + \"/\" + file\n",
    "  web_file = web_dir + \"/\" + file\n",
    "  if(os.path.isfile(local_file)):\n",
    "    print(file, \"is already stored\")\n",
    "  else:\n",
    "    print(\"downloading from URL: \", web_file , \"save in : \" + local_file)\n",
    "    request.urlretrieve(web_file , local_file)\n",
    "\n",
    "def unzip_file(local_dir, file):\n",
    "  with zipfile.ZipFile(local_dir + \"/\" + file, 'r') as zip_ref:\n",
    "    zip_ref.extractall(local_dir)\n",
    "  # os.remove(local_dir + \"/\" + file)\n",
    "\n",
    "\n",
    "web_dir = PUBLIC_DATASET + \"/movielens\"\n",
    "\n",
    "download_file(web_dir, local_dir, \"notes1M.zip\")\n",
    "unzip_file(local_dir, \"notes1M.zip\")\n",
    "\n",
    "download_file(web_dir, local_dir, \"ratings3M.zip\")\n",
    "unzip_file(local_dir, \"ratings3M.zip\")\n",
    "\n",
    "download_file(web_dir, local_dir, \"films.json\")\n",
    "\n",
    "web_dir = PUBLIC_DATASET + \"/movielens/ml-latest\"\n",
    "\n",
    "download_file(web_dir, local_dir, \"movies.csv\")\n",
    "\n",
    "\n",
    "# Liste des fichiers\n",
    "os.listdir(local_dir)"
   ]
  },
  {
   "cell_type": "markdown",
   "metadata": {
    "id": "u22bspSoHl91"
   },
   "source": [
    "### Dataframe les Films"
   ]
  },
  {
   "cell_type": "code",
   "execution_count": 14,
   "metadata": {
    "colab": {
     "base_uri": "https://localhost:8080/",
     "height": 419
    },
    "id": "_YsUJvyKHl91",
    "outputId": "2728317b-9c99-4eb7-fb46-0950447012df"
   },
   "outputs": [
    {
     "name": "stdout",
     "output_type": "stream",
     "text": [
      "root\n",
      " |-- nF: long (nullable = true)\n",
      " |-- titre: string (nullable = true)\n",
      " |-- genres: array (nullable = true)\n",
      " |    |-- element: string (containsNull = true)\n",
      "\n"
     ]
    },
    {
     "data": {
      "application/vnd.google.colaboratory.module+javascript": "\n      import \"https://ssl.gstatic.com/colaboratory/data_table/fb998edc550c7947/data_table.js\";\n\n      window.createDataTable({\n        data: [[{\n            'v': 94,\n            'f': \"94\",\n        },\n\"Beautiful Girls (1996)\",\n[\"Comedy\", \"Drama\", \"Romance\"]],\n [{\n            'v': 45,\n            'f': \"45\",\n        },\n\"To Die For (1995)\",\n[\"Comedy\", \"Drama\", \"Thriller\"]],\n [{\n            'v': 58,\n            'f': \"58\",\n        },\n\"Postman, The (Postino, Il) (1994)\",\n[\"Comedy\", \"Drama\", \"Romance\"]],\n [{\n            'v': 54,\n            'f': \"54\",\n        },\n\"Big Green, The (1995)\",\n[\"Children\", \"Comedy\"]],\n [{\n            'v': 9,\n            'f': \"9\",\n        },\n\"Sudden Death (1995)\",\n[\"Action\"]],\n [{\n            'v': 4,\n            'f': \"4\",\n        },\n\"Waiting to Exhale (1995)\",\n[\"Comedy\", \"Drama\", \"Romance\"]],\n [{\n            'v': 80,\n            'f': \"80\",\n        },\n\"White Balloon, The (Badkonake sefid) (1995)\",\n[\"Children\", \"Drama\"]],\n [{\n            'v': 87,\n            'f': \"87\",\n        },\n\"Dunston Checks In (1996)\",\n[\"Children\", \"Comedy\"]],\n [{\n            'v': 88,\n            'f': \"88\",\n        },\n\"Black Sheep (1996)\",\n[\"Comedy\"]],\n [{\n            'v': 20,\n            'f': \"20\",\n        },\n\"Money Train (1995)\",\n[\"Action\", \"Comedy\", \"Crime\", \"Drama\", \"Thriller\"]],\n [{\n            'v': 83,\n            'f': \"83\",\n        },\n\"Once Upon a Time... When We Were Colored (1995)\",\n[\"Drama\", \"Romance\"]],\n [{\n            'v': 57,\n            'f': \"57\",\n        },\n\"Home for the Holidays (1995)\",\n[\"Drama\"]],\n [{\n            'v': 73,\n            'f': \"73\",\n        },\n\"Mis\\u00e9rables, Les (1995)\",\n[\"Drama\", \"War\"]],\n [{\n            'v': 12,\n            'f': \"12\",\n        },\n\"Dracula: Dead and Loving It (1995)\",\n[\"Comedy\", \"Horror\"]],\n [{\n            'v': 39,\n            'f': \"39\",\n        },\n\"Clueless (1995)\",\n[\"Comedy\", \"Romance\"]],\n [{\n            'v': 35,\n            'f': \"35\",\n        },\n\"Carrington (1995)\",\n[\"Drama\", \"Romance\"]],\n [{\n            'v': 97,\n            'f': \"97\",\n        },\n\"Hate (Haine, La) (1995)\",\n[\"Crime\", \"Drama\"]],\n [{\n            'v': 70,\n            'f': \"70\",\n        },\n\"From Dusk Till Dawn (1996)\",\n[\"Action\", \"Comedy\", \"Horror\", \"Thriller\"]],\n [{\n            'v': 46,\n            'f': \"46\",\n        },\n\"How to Make an American Quilt (1995)\",\n[\"Drama\", \"Romance\"]],\n [{\n            'v': 13,\n            'f': \"13\",\n        },\n\"Balto (1995)\",\n[\"Adventure\", \"Animation\", \"Children\"]],\n [{\n            'v': 86,\n            'f': \"86\",\n        },\n\"White Squall (1996)\",\n[\"Action\", \"Adventure\", \"Drama\"]],\n [{\n            'v': 25,\n            'f': \"25\",\n        },\n\"Leaving Las Vegas (1995)\",\n[\"Drama\", \"Romance\"]],\n [{\n            'v': 66,\n            'f': \"66\",\n        },\n\"Lawnmower Man 2: Beyond Cyberspace (1996)\",\n[\"Action\", \"Sci-Fi\", \"Thriller\"]],\n [{\n            'v': 1,\n            'f': \"1\",\n        },\n\"Toy Story (1995)\",\n[\"Adventure\", \"Animation\", \"Children\", \"Comedy\", \"Fantasy\"]],\n [{\n            'v': 22,\n            'f': \"22\",\n        },\n\"Copycat (1995)\",\n[\"Crime\", \"Drama\", \"Horror\", \"Mystery\", \"Thriller\"]],\n [{\n            'v': 2,\n            'f': \"2\",\n        },\n\"Jumanji (1995)\",\n[\"Adventure\", \"Children\", \"Fantasy\"]],\n [{\n            'v': 36,\n            'f': \"36\",\n        },\n\"Dead Man Walking (1995)\",\n[\"Crime\", \"Drama\"]],\n [{\n            'v': 17,\n            'f': \"17\",\n        },\n\"Sense and Sensibility (1995)\",\n[\"Drama\", \"Romance\"]],\n [{\n            'v': 30,\n            'f': \"30\",\n        },\n\"Shanghai Triad (Yao a yao yao dao waipo qiao) (1995)\",\n[\"Crime\", \"Drama\"]],\n [{\n            'v': 24,\n            'f': \"24\",\n        },\n\"Powder (1995)\",\n[\"Drama\", \"Sci-Fi\"]],\n [{\n            'v': 93,\n            'f': \"93\",\n        },\n\"Vampire in Brooklyn (1995)\",\n[\"Comedy\", \"Horror\", \"Romance\"]],\n [{\n            'v': 14,\n            'f': \"14\",\n        },\n\"Nixon (1995)\",\n[\"Drama\"]],\n [{\n            'v': 71,\n            'f': \"71\",\n        },\n\"Fair Game (1995)\",\n[\"Action\"]],\n [{\n            'v': 49,\n            'f': \"49\",\n        },\n\"When Night Is Falling (1995)\",\n[\"Drama\", \"Romance\"]],\n [{\n            'v': 27,\n            'f': \"27\",\n        },\n\"Now and Then (1995)\",\n[\"Children\", \"Drama\"]],\n [{\n            'v': 59,\n            'f': \"59\",\n        },\n\"Confessional, The (Confessionnal, Le) (1995)\",\n[\"Drama\", \"Mystery\"]],\n [{\n            'v': 3,\n            'f': \"3\",\n        },\n\"Grumpier Old Men (1995)\",\n[\"Comedy\", \"Romance\"]],\n [{\n            'v': 34,\n            'f': \"34\",\n        },\n\"Babe (1995)\",\n[\"Children\", \"Drama\"]],\n [{\n            'v': 19,\n            'f': \"19\",\n        },\n\"Ace Ventura: When Nature Calls (1995)\",\n[\"Comedy\"]],\n [{\n            'v': 99,\n            'f': \"99\",\n        },\n\"Heidi Fleiss: Hollywood Madam (1995)\",\n[\"Documentary\"]],\n [{\n            'v': 23,\n            'f': \"23\",\n        },\n\"Assassins (1995)\",\n[\"Action\", \"Crime\", \"Thriller\"]],\n [{\n            'v': 60,\n            'f': \"60\",\n        },\n\"Indian in the Cupboard, The (1995)\",\n[\"Adventure\", \"Children\", \"Fantasy\"]],\n [{\n            'v': 52,\n            'f': \"52\",\n        },\n\"Mighty Aphrodite (1995)\",\n[\"Comedy\", \"Drama\", \"Romance\"]],\n [{\n            'v': 84,\n            'f': \"84\",\n        },\n\"Last Summer in the Hamptons (1995)\",\n[\"Comedy\", \"Drama\"]],\n [{\n            'v': 76,\n            'f': \"76\",\n        },\n\"Screamers (1995)\",\n[\"Action\", \"Sci-Fi\", \"Thriller\"]],\n [{\n            'v': 7,\n            'f': \"7\",\n        },\n\"Sabrina (1995)\",\n[\"Comedy\", \"Romance\"]],\n [{\n            'v': 16,\n            'f': \"16\",\n        },\n\"Casino (1995)\",\n[\"Crime\", \"Drama\"]],\n [{\n            'v': 61,\n            'f': \"61\",\n        },\n\"Eye for an Eye (1996)\",\n[\"Drama\", \"Thriller\"]],\n [{\n            'v': 62,\n            'f': \"62\",\n        },\n\"Mr. Holland's Opus (1995)\",\n[\"Drama\"]],\n [{\n            'v': 98,\n            'f': \"98\",\n        },\n\"Shopping (1994)\",\n[\"Action\", \"Thriller\"]],\n [{\n            'v': 10,\n            'f': \"10\",\n        },\n\"GoldenEye (1995)\",\n[\"Action\", \"Adventure\", \"Thriller\"]],\n [{\n            'v': 47,\n            'f': \"47\",\n        },\n\"Seven (a.k.a. Se7en) (1995)\",\n[\"Mystery\", \"Thriller\"]],\n [{\n            'v': 78,\n            'f': \"78\",\n        },\n\"Crossing Guard, The (1995)\",\n[\"Action\", \"Crime\", \"Drama\", \"Thriller\"]],\n [{\n            'v': 81,\n            'f': \"81\",\n        },\n\"Things to Do in Denver When You're Dead (1995)\",\n[\"Crime\", \"Drama\", \"Romance\"]],\n [{\n            'v': 40,\n            'f': \"40\",\n        },\n\"Cry, the Beloved Country (1995)\",\n[\"Drama\"]],\n [{\n            'v': 74,\n            'f': \"74\",\n        },\n\"Bed of Roses (1996)\",\n[\"Drama\", \"Romance\"]],\n [{\n            'v': 89,\n            'f': \"89\",\n        },\n\"Nick of Time (1995)\",\n[\"Action\", \"Thriller\"]],\n [{\n            'v': 42,\n            'f': \"42\",\n        },\n\"Dead Presidents (1995)\",\n[\"Action\", \"Crime\", \"Drama\"]],\n [{\n            'v': 5,\n            'f': \"5\",\n        },\n\"Father of the Bride Part II (1995)\",\n[\"Comedy\"]],\n [{\n            'v': 43,\n            'f': \"43\",\n        },\n\"Restoration (1995)\",\n[\"Drama\"]],\n [{\n            'v': 65,\n            'f': \"65\",\n        },\n\"Bio-Dome (1996)\",\n[\"Comedy\"]],\n [{\n            'v': 48,\n            'f': \"48\",\n        },\n\"Pocahontas (1995)\",\n[\"Animation\", \"Children\", \"Drama\", \"Musical\", \"Romance\"]],\n [{\n            'v': 72,\n            'f': \"72\",\n        },\n\"Kicking and Screaming (1995)\",\n[\"Comedy\", \"Drama\"]],\n [{\n            'v': 21,\n            'f': \"21\",\n        },\n\"Get Shorty (1995)\",\n[\"Comedy\", \"Crime\", \"Thriller\"]],\n [{\n            'v': 63,\n            'f': \"63\",\n        },\n\"Don't Be a Menace to South Central While Drinking Your Juice in the Hood (1996)\",\n[\"Comedy\", \"Crime\"]],\n [{\n            'v': 95,\n            'f': \"95\",\n        },\n\"Broken Arrow (1996)\",\n[\"Action\", \"Adventure\", \"Thriller\"]],\n [{\n            'v': 8,\n            'f': \"8\",\n        },\n\"Tom and Huck (1995)\",\n[\"Adventure\", \"Children\"]],\n [{\n            'v': 53,\n            'f': \"53\",\n        },\n\"Lamerica (1994)\",\n[\"Adventure\", \"Drama\"]],\n [{\n            'v': 50,\n            'f': \"50\",\n        },\n\"Usual Suspects, The (1995)\",\n[\"Crime\", \"Mystery\", \"Thriller\"]],\n [{\n            'v': 96,\n            'f': \"96\",\n        },\n\"In the Bleak Midwinter (1995)\",\n[\"Comedy\", \"Drama\"]],\n [{\n            'v': 55,\n            'f': \"55\",\n        },\n\"Georgia (1995)\",\n[\"Drama\"]],\n [{\n            'v': 6,\n            'f': \"6\",\n        },\n\"Heat (1995)\",\n[\"Action\", \"Crime\", \"Thriller\"]],\n [{\n            'v': 31,\n            'f': \"31\",\n        },\n\"Dangerous Minds (1995)\",\n[\"Drama\"]],\n [{\n            'v': 79,\n            'f': \"79\",\n        },\n\"Juror, The (1996)\",\n[\"Drama\", \"Thriller\"]],\n [{\n            'v': 92,\n            'f': \"92\",\n        },\n\"Mary Reilly (1996)\",\n[\"Drama\", \"Horror\", \"Thriller\"]],\n [{\n            'v': 77,\n            'f': \"77\",\n        },\n\"Nico Icon (1995)\",\n[\"Documentary\"]],\n [{\n            'v': 18,\n            'f': \"18\",\n        },\n\"Four Rooms (1995)\",\n[\"Comedy\"]],\n [{\n            'v': 26,\n            'f': \"26\",\n        },\n\"Othello (1995)\",\n[\"Drama\"]],\n [{\n            'v': 11,\n            'f': \"11\",\n        },\n\"American President, The (1995)\",\n[\"Comedy\", \"Drama\", \"Romance\"]],\n [{\n            'v': 41,\n            'f': \"41\",\n        },\n\"Richard III (1995)\",\n[\"Drama\", \"War\"]],\n [{\n            'v': 29,\n            'f': \"29\",\n        },\n\"City of Lost Children, The (Cit\\u00e9 des enfants perdus, La) (1995)\",\n[\"Adventure\", \"Drama\", \"Fantasy\", \"Mystery\", \"Sci-Fi\"]],\n [{\n            'v': 82,\n            'f': \"82\",\n        },\n\"Antonia's Line (Antonia) (1995)\",\n[\"Comedy\", \"Drama\"]],\n [{\n            'v': 44,\n            'f': \"44\",\n        },\n\"Mortal Kombat (1995)\",\n[\"Action\", \"Adventure\", \"Fantasy\"]],\n [{\n            'v': 28,\n            'f': \"28\",\n        },\n\"Persuasion (1995)\",\n[\"Drama\", \"Romance\"]],\n [{\n            'v': 32,\n            'f': \"32\",\n        },\n\"Twelve Monkeys (a.k.a. 12 Monkeys) (1995)\",\n[\"Mystery\", \"Sci-Fi\", \"Thriller\"]],\n [{\n            'v': 69,\n            'f': \"69\",\n        },\n\"Friday (1995)\",\n[\"Comedy\"]],\n [{\n            'v': 68,\n            'f': \"68\",\n        },\n\"French Twist (Gazon maudit) (1995)\",\n[\"Comedy\", \"Romance\"]],\n [{\n            'v': 38,\n            'f': \"38\",\n        },\n\"It Takes Two (1995)\",\n[\"Children\", \"Comedy\"]],\n [{\n            'v': 15,\n            'f': \"15\",\n        },\n\"Cutthroat Island (1995)\",\n[\"Action\", \"Adventure\", \"Romance\"]],\n [{\n            'v': 85,\n            'f': \"85\",\n        },\n\"Angels and Insects (1995)\",\n[\"Drama\", \"Romance\"]],\n [{\n            'v': 64,\n            'f': \"64\",\n        },\n\"Two if by Sea (1996)\",\n[\"Comedy\", \"Romance\"]],\n [{\n            'v': 37,\n            'f': \"37\",\n        },\n\"Across the Sea of Time (1995)\",\n[\"Documentary\", \"IMAX\"]]],\n        columns: [[\"number\", \"nF\"], [\"string\", \"titre\"], [\"string\", \"genres\"]],\n        columnOptions: [],\n        rowsPerPage: 10,\n        helpUrl: \"https://colab.research.google.com/notebooks/data_table.ipynb\",\n        suppressOutputScrolling: true,\n        minimumWidth: undefined,\n      });\n    ",
      "text/html": [
       "<div>\n",
       "<style scoped>\n",
       "    .dataframe tbody tr th:only-of-type {\n",
       "        vertical-align: middle;\n",
       "    }\n",
       "\n",
       "    .dataframe tbody tr th {\n",
       "        vertical-align: top;\n",
       "    }\n",
       "\n",
       "    .dataframe thead th {\n",
       "        text-align: right;\n",
       "    }\n",
       "</style>\n",
       "<table border=\"1\" class=\"dataframe\">\n",
       "  <thead>\n",
       "    <tr style=\"text-align: right;\">\n",
       "      <th></th>\n",
       "      <th>nF</th>\n",
       "      <th>titre</th>\n",
       "      <th>genres</th>\n",
       "    </tr>\n",
       "  </thead>\n",
       "  <tbody>\n",
       "    <tr>\n",
       "      <th>0</th>\n",
       "      <td>94</td>\n",
       "      <td>Beautiful Girls (1996)</td>\n",
       "      <td>[Comedy, Drama, Romance]</td>\n",
       "    </tr>\n",
       "    <tr>\n",
       "      <th>1</th>\n",
       "      <td>45</td>\n",
       "      <td>To Die For (1995)</td>\n",
       "      <td>[Comedy, Drama, Thriller]</td>\n",
       "    </tr>\n",
       "    <tr>\n",
       "      <th>2</th>\n",
       "      <td>58</td>\n",
       "      <td>Postman, The (Postino, Il) (1994)</td>\n",
       "      <td>[Comedy, Drama, Romance]</td>\n",
       "    </tr>\n",
       "    <tr>\n",
       "      <th>3</th>\n",
       "      <td>54</td>\n",
       "      <td>Big Green, The (1995)</td>\n",
       "      <td>[Children, Comedy]</td>\n",
       "    </tr>\n",
       "    <tr>\n",
       "      <th>4</th>\n",
       "      <td>9</td>\n",
       "      <td>Sudden Death (1995)</td>\n",
       "      <td>[Action]</td>\n",
       "    </tr>\n",
       "    <tr>\n",
       "      <th>...</th>\n",
       "      <td>...</td>\n",
       "      <td>...</td>\n",
       "      <td>...</td>\n",
       "    </tr>\n",
       "    <tr>\n",
       "      <th>87</th>\n",
       "      <td>38</td>\n",
       "      <td>It Takes Two (1995)</td>\n",
       "      <td>[Children, Comedy]</td>\n",
       "    </tr>\n",
       "    <tr>\n",
       "      <th>88</th>\n",
       "      <td>15</td>\n",
       "      <td>Cutthroat Island (1995)</td>\n",
       "      <td>[Action, Adventure, Romance]</td>\n",
       "    </tr>\n",
       "    <tr>\n",
       "      <th>89</th>\n",
       "      <td>85</td>\n",
       "      <td>Angels and Insects (1995)</td>\n",
       "      <td>[Drama, Romance]</td>\n",
       "    </tr>\n",
       "    <tr>\n",
       "      <th>90</th>\n",
       "      <td>64</td>\n",
       "      <td>Two if by Sea (1996)</td>\n",
       "      <td>[Comedy, Romance]</td>\n",
       "    </tr>\n",
       "    <tr>\n",
       "      <th>91</th>\n",
       "      <td>37</td>\n",
       "      <td>Across the Sea of Time (1995)</td>\n",
       "      <td>[Documentary, IMAX]</td>\n",
       "    </tr>\n",
       "  </tbody>\n",
       "</table>\n",
       "<p>92 rows × 3 columns</p>\n",
       "</div>"
      ],
      "text/plain": [
       "<google.colab.data_table.DataTable object>"
      ]
     },
     "execution_count": 14,
     "metadata": {},
     "output_type": "execute_result"
    }
   ],
   "source": [
    "# schema_film = \"nf long, titre String, g Array<String>\"\n",
    "schema_film = StructType([StructField('nF',LongType()),\n",
    "                          StructField('titre',StringType()),\n",
    "                          StructField('g',ArrayType(StringType()))])\n",
    "\n",
    "films = spark.read.json(local_dir + \"/\" + \"films.json\", schema = schema_film).selectExpr(\"nF\", \"titre\", \"g as genres\")\n",
    "# print('schema:', films.schema)\n",
    "\n",
    "# extrait\n",
    "film_extrait = films.where(\"nF <100\").repartition(3).persist()\n",
    "\n",
    "film_extrait.printSchema()\n",
    "display(film_extrait)"
   ]
  },
  {
   "cell_type": "code",
   "execution_count": 15,
   "metadata": {
    "colab": {
     "base_uri": "https://localhost:8080/"
    },
    "id": "WRBY9epClb-l",
    "outputId": "f268fbcb-b268-4167-d614-bef791607a52"
   },
   "outputs": [
    {
     "name": "stdout",
     "output_type": "stream",
     "text": [
      "Mounted at /content/drive\n"
     ]
    }
   ],
   "source": [
    "from google.colab import drive\n",
    "drive.mount('/content/drive')"
   ]
  },
  {
   "cell_type": "markdown",
   "metadata": {
    "application/vnd.databricks.v1+cell": {
     "inputWidgets": {},
     "nuid": "2e9bc8ed-3a2c-47b7-b30e-778f5215a8c8",
     "showTitle": false,
     "title": ""
    },
    "id": "wA2unoChHl92"
   },
   "source": [
    "### Dataframe Les Notes"
   ]
  },
  {
   "cell_type": "code",
   "execution_count": 16,
   "metadata": {
    "application/vnd.databricks.v1+cell": {
     "inputWidgets": {},
     "nuid": "8f256218-b2f3-44af-b884-0f8b1de83e29",
     "showTitle": false,
     "title": ""
    },
    "colab": {
     "base_uri": "https://localhost:8080/",
     "height": 332
    },
    "id": "wURzXvlfHl93",
    "outputId": "9a0fe5a4-ae21-417e-d1d2-191a41c2d9bf"
   },
   "outputs": [
    {
     "name": "stdout",
     "output_type": "stream",
     "text": [
      "185\n"
     ]
    },
    {
     "data": {
      "application/vnd.google.colaboratory.module+javascript": "\n      import \"https://ssl.gstatic.com/colaboratory/data_table/fb998edc550c7947/data_table.js\";\n\n      window.createDataTable({\n        data: [[{\n            'v': 19,\n            'f': \"19\",\n        },\n{\n            'v': 76,\n            'f': \"76\",\n        },\n{\n            'v': 1.5,\n            'f': \"1.5\",\n        },\n{\n            'v': 2011,\n            'f': \"2011\",\n        }],\n [{\n            'v': 62,\n            'f': \"62\",\n        },\n{\n            'v': 691,\n            'f': \"691\",\n        },\n{\n            'v': 5.0,\n            'f': \"5.0\",\n        },\n{\n            'v': 1996,\n            'f': \"1996\",\n        }],\n [{\n            'v': 25,\n            'f': \"25\",\n        },\n{\n            'v': 832,\n            'f': \"832\",\n        },\n{\n            'v': 5.0,\n            'f': \"5.0\",\n        },\n{\n            'v': 1998,\n            'f': \"1998\",\n        }],\n [{\n            'v': 5,\n            'f': \"5\",\n        },\n{\n            'v': 296,\n            'f': \"296\",\n        },\n{\n            'v': 3.5,\n            'f': \"3.5\",\n        },\n{\n            'v': 2005,\n            'f': \"2005\",\n        }],\n [{\n            'v': 48,\n            'f': \"48\",\n        },\n{\n            'v': 781,\n            'f': \"781\",\n        },\n{\n            'v': 3.0,\n            'f': \"3.0\",\n        },\n{\n            'v': 1996,\n            'f': \"1996\",\n        }],\n [{\n            'v': 34,\n            'f': \"34\",\n        },\n{\n            'v': 871,\n            'f': \"871\",\n        },\n{\n            'v': 4.0,\n            'f': \"4.0\",\n        },\n{\n            'v': 2000,\n            'f': \"2000\",\n        }],\n [{\n            'v': 2,\n            'f': \"2\",\n        },\n{\n            'v': 796,\n            'f': \"796\",\n        },\n{\n            'v': 1.5,\n            'f': \"1.5\",\n        },\n{\n            'v': 2015,\n            'f': \"2015\",\n        }],\n [{\n            'v': 2,\n            'f': \"2\",\n        },\n{\n            'v': 353,\n            'f': \"353\",\n        },\n{\n            'v': 3.0,\n            'f': \"3.0\",\n        },\n{\n            'v': 2003,\n            'f': \"2003\",\n        }],\n [{\n            'v': 28,\n            'f': \"28\",\n        },\n{\n            'v': 815,\n            'f': \"815\",\n        },\n{\n            'v': 5.0,\n            'f': \"5.0\",\n        },\n{\n            'v': 1996,\n            'f': \"1996\",\n        }],\n [{\n            'v': 5,\n            'f': \"5\",\n        },\n{\n            'v': 196,\n            'f': \"196\",\n        },\n{\n            'v': 4.0,\n            'f': \"4.0\",\n        },\n{\n            'v': 1996,\n            'f': \"1996\",\n        }],\n [{\n            'v': 62,\n            'f': \"62\",\n        },\n{\n            'v': 760,\n            'f': \"760\",\n        },\n{\n            'v': 4.0,\n            'f': \"4.0\",\n        },\n{\n            'v': 1996,\n            'f': \"1996\",\n        }],\n [{\n            'v': 29,\n            'f': \"29\",\n        },\n{\n            'v': 882,\n            'f': \"882\",\n        },\n{\n            'v': 5.0,\n            'f': \"5.0\",\n        },\n{\n            'v': 1996,\n            'f': \"1996\",\n        }],\n [{\n            'v': 62,\n            'f': \"62\",\n        },\n{\n            'v': 989,\n            'f': \"989\",\n        },\n{\n            'v': 3.0,\n            'f': \"3.0\",\n        },\n{\n            'v': 1997,\n            'f': \"1997\",\n        }],\n [{\n            'v': 12,\n            'f': \"12\",\n        },\n{\n            'v': 459,\n            'f': \"459\",\n        },\n{\n            'v': 3.0,\n            'f': \"3.0\",\n        },\n{\n            'v': 2015,\n            'f': \"2015\",\n        }],\n [{\n            'v': 62,\n            'f': \"62\",\n        },\n{\n            'v': 87,\n            'f': \"87\",\n        },\n{\n            'v': 3.0,\n            'f': \"3.0\",\n        },\n{\n            'v': 1997,\n            'f': \"1997\",\n        }],\n [{\n            'v': 61,\n            'f': \"61\",\n        },\n{\n            'v': 638,\n            'f': \"638\",\n        },\n{\n            'v': 3.0,\n            'f': \"3.0\",\n        },\n{\n            'v': 1996,\n            'f': \"1996\",\n        }],\n [{\n            'v': 95,\n            'f': \"95\",\n        },\n{\n            'v': 400,\n            'f': \"400\",\n        },\n{\n            'v': 3.0,\n            'f': \"3.0\",\n        },\n{\n            'v': 1996,\n            'f': \"1996\",\n        }],\n [{\n            'v': 1,\n            'f': \"1\",\n        },\n{\n            'v': 457,\n            'f': \"457\",\n        },\n{\n            'v': 4.0,\n            'f': \"4.0\",\n        },\n{\n            'v': 2017,\n            'f': \"2017\",\n        }],\n [{\n            'v': 1,\n            'f': \"1\",\n        },\n{\n            'v': 606,\n            'f': \"606\",\n        },\n{\n            'v': 4.0,\n            'f': \"4.0\",\n        },\n{\n            'v': 2002,\n            'f': \"2002\",\n        }],\n [{\n            'v': 11,\n            'f': \"11\",\n        },\n{\n            'v': 236,\n            'f': \"236\",\n        },\n{\n            'v': 4.0,\n            'f': \"4.0\",\n        },\n{\n            'v': 2001,\n            'f': \"2001\",\n        }],\n [{\n            'v': 10,\n            'f': \"10\",\n        },\n{\n            'v': 341,\n            'f': \"341\",\n        },\n{\n            'v': 3.0,\n            'f': \"3.0\",\n        },\n{\n            'v': 1997,\n            'f': \"1997\",\n        }],\n [{\n            'v': 65,\n            'f': \"65\",\n        },\n{\n            'v': 953,\n            'f': \"953\",\n        },\n{\n            'v': 3.0,\n            'f': \"3.0\",\n        },\n{\n            'v': 1997,\n            'f': \"1997\",\n        }],\n [{\n            'v': 10,\n            'f': \"10\",\n        },\n{\n            'v': 481,\n            'f': \"481\",\n        },\n{\n            'v': 2.0,\n            'f': \"2.0\",\n        },\n{\n            'v': 1996,\n            'f': \"1996\",\n        }],\n [{\n            'v': 1,\n            'f': \"1\",\n        },\n{\n            'v': 869,\n            'f': \"869\",\n        },\n{\n            'v': 4.0,\n            'f': \"4.0\",\n        },\n{\n            'v': 2012,\n            'f': \"2012\",\n        }],\n [{\n            'v': 6,\n            'f': \"6\",\n        },\n{\n            'v': 733,\n            'f': \"733\",\n        },\n{\n            'v': 4.5,\n            'f': \"4.5\",\n        },\n{\n            'v': 2006,\n            'f': \"2006\",\n        }],\n [{\n            'v': 6,\n            'f': \"6\",\n        },\n{\n            'v': 384,\n            'f': \"384\",\n        },\n{\n            'v': 3.0,\n            'f': \"3.0\",\n        },\n{\n            'v': 2000,\n            'f': \"2000\",\n        }],\n [{\n            'v': 6,\n            'f': \"6\",\n        },\n{\n            'v': 703,\n            'f': \"703\",\n        },\n{\n            'v': 4.0,\n            'f': \"4.0\",\n        },\n{\n            'v': 2003,\n            'f': \"2003\",\n        }],\n [{\n            'v': 11,\n            'f': \"11\",\n        },\n{\n            'v': 455,\n            'f': \"455\",\n        },\n{\n            'v': 3.0,\n            'f': \"3.0\",\n        },\n{\n            'v': 1996,\n            'f': \"1996\",\n        }],\n [{\n            'v': 6,\n            'f': \"6\",\n        },\n{\n            'v': 153,\n            'f': \"153\",\n        },\n{\n            'v': 4.5,\n            'f': \"4.5\",\n        },\n{\n            'v': 2004,\n            'f': \"2004\",\n        }],\n [{\n            'v': 36,\n            'f': \"36\",\n        },\n{\n            'v': 523,\n            'f': \"523\",\n        },\n{\n            'v': 3.0,\n            'f': \"3.0\",\n        },\n{\n            'v': 1998,\n            'f': \"1998\",\n        }],\n [{\n            'v': 10,\n            'f': \"10\",\n        },\n{\n            'v': 421,\n            'f': \"421\",\n        },\n{\n            'v': 4.0,\n            'f': \"4.0\",\n        },\n{\n            'v': 1999,\n            'f': \"1999\",\n        }],\n [{\n            'v': 36,\n            'f': \"36\",\n        },\n{\n            'v': 332,\n            'f': \"332\",\n        },\n{\n            'v': 3.5,\n            'f': \"3.5\",\n        },\n{\n            'v': 2015,\n            'f': \"2015\",\n        }],\n [{\n            'v': 32,\n            'f': \"32\",\n        },\n{\n            'v': 160,\n            'f': \"160\",\n        },\n{\n            'v': 4.0,\n            'f': \"4.0\",\n        },\n{\n            'v': 2000,\n            'f': \"2000\",\n        }],\n [{\n            'v': 32,\n            'f': \"32\",\n        },\n{\n            'v': 848,\n            'f': \"848\",\n        },\n{\n            'v': 4.0,\n            'f': \"4.0\",\n        },\n{\n            'v': 2007,\n            'f': \"2007\",\n        }],\n [{\n            'v': 22,\n            'f': \"22\",\n        },\n{\n            'v': 66,\n            'f': \"66\",\n        },\n{\n            'v': 2.0,\n            'f': \"2.0\",\n        },\n{\n            'v': 2003,\n            'f': \"2003\",\n        }],\n [{\n            'v': 36,\n            'f': \"36\",\n        },\n{\n            'v': 12,\n            'f': \"12\",\n        },\n{\n            'v': 3.0,\n            'f': \"3.0\",\n        },\n{\n            'v': 1999,\n            'f': \"1999\",\n        }],\n [{\n            'v': 16,\n            'f': \"16\",\n        },\n{\n            'v': 12,\n            'f': \"12\",\n        },\n{\n            'v': 4.0,\n            'f': \"4.0\",\n        },\n{\n            'v': 1999,\n            'f': \"1999\",\n        }],\n [{\n            'v': 44,\n            'f': \"44\",\n        },\n{\n            'v': 595,\n            'f': \"595\",\n        },\n{\n            'v': 3.0,\n            'f': \"3.0\",\n        },\n{\n            'v': 1996,\n            'f': \"1996\",\n        }],\n [{\n            'v': 44,\n            'f': \"44\",\n        },\n{\n            'v': 267,\n            'f': \"267\",\n        },\n{\n            'v': 2.5,\n            'f': \"2.5\",\n        },\n{\n            'v': 2016,\n            'f': \"2016\",\n        }],\n [{\n            'v': 50,\n            'f': \"50\",\n        },\n{\n            'v': 308,\n            'f': \"308\",\n        },\n{\n            'v': 5.0,\n            'f': \"5.0\",\n        },\n{\n            'v': 2001,\n            'f': \"2001\",\n        }],\n [{\n            'v': 89,\n            'f': \"89\",\n        },\n{\n            'v': 426,\n            'f': \"426\",\n        },\n{\n            'v': 2.0,\n            'f': \"2.0\",\n        },\n{\n            'v': 1999,\n            'f': \"1999\",\n        }],\n [{\n            'v': 14,\n            'f': \"14\",\n        },\n{\n            'v': 157,\n            'f': \"157\",\n        },\n{\n            'v': 3.0,\n            'f': \"3.0\",\n        },\n{\n            'v': 1996,\n            'f': \"1996\",\n        }],\n [{\n            'v': 50,\n            'f': \"50\",\n        },\n{\n            'v': 834,\n            'f': \"834\",\n        },\n{\n            'v': 4.5,\n            'f': \"4.5\",\n        },\n{\n            'v': 2017,\n            'f': \"2017\",\n        }],\n [{\n            'v': 14,\n            'f': \"14\",\n        },\n{\n            'v': 112,\n            'f': \"112\",\n        },\n{\n            'v': 3.0,\n            'f': \"3.0\",\n        },\n{\n            'v': 1996,\n            'f': \"1996\",\n        }],\n [{\n            'v': 94,\n            'f': \"94\",\n        },\n{\n            'v': 353,\n            'f': \"353\",\n        },\n{\n            'v': 4.0,\n            'f': \"4.0\",\n        },\n{\n            'v': 2003,\n            'f': \"2003\",\n        }],\n [{\n            'v': 17,\n            'f': \"17\",\n        },\n{\n            'v': 523,\n            'f': \"523\",\n        },\n{\n            'v': 5.0,\n            'f': \"5.0\",\n        },\n{\n            'v': 1998,\n            'f': \"1998\",\n        }],\n [{\n            'v': 79,\n            'f': \"79\",\n        },\n{\n            'v': 295,\n            'f': \"295\",\n        },\n{\n            'v': 3.5,\n            'f': \"3.5\",\n        },\n{\n            'v': 2013,\n            'f': \"2013\",\n        }],\n [{\n            'v': 21,\n            'f': \"21\",\n        },\n{\n            'v': 638,\n            'f': \"638\",\n        },\n{\n            'v': 4.0,\n            'f': \"4.0\",\n        },\n{\n            'v': 1996,\n            'f': \"1996\",\n        }],\n [{\n            'v': 7,\n            'f': \"7\",\n        },\n{\n            'v': 611,\n            'f': \"611\",\n        },\n{\n            'v': 2.0,\n            'f': \"2.0\",\n        },\n{\n            'v': 1999,\n            'f': \"1999\",\n        }],\n [{\n            'v': 39,\n            'f': \"39\",\n        },\n{\n            'v': 524,\n            'f': \"524\",\n        },\n{\n            'v': 4.0,\n            'f': \"4.0\",\n        },\n{\n            'v': 1996,\n            'f': \"1996\",\n        }],\n [{\n            'v': 58,\n            'f': \"58\",\n        },\n{\n            'v': 487,\n            'f': \"487\",\n        },\n{\n            'v': 4.0,\n            'f': \"4.0\",\n        },\n{\n            'v': 1997,\n            'f': \"1997\",\n        }],\n [{\n            'v': 39,\n            'f': \"39\",\n        },\n{\n            'v': 546,\n            'f': \"546\",\n        },\n{\n            'v': 3.0,\n            'f': \"3.0\",\n        },\n{\n            'v': 1996,\n            'f': \"1996\",\n        }],\n [{\n            'v': 58,\n            'f': \"58\",\n        },\n{\n            'v': 773,\n            'f': \"773\",\n        },\n{\n            'v': 4.0,\n            'f': \"4.0\",\n        },\n{\n            'v': 1999,\n            'f': \"1999\",\n        }],\n [{\n            'v': 21,\n            'f': \"21\",\n        },\n{\n            'v': 557,\n            'f': \"557\",\n        },\n{\n            'v': 4.0,\n            'f': \"4.0\",\n        },\n{\n            'v': 2002,\n            'f': \"2002\",\n        }],\n [{\n            'v': 45,\n            'f': \"45\",\n        },\n{\n            'v': 308,\n            'f': \"308\",\n        },\n{\n            'v': 3.0,\n            'f': \"3.0\",\n        },\n{\n            'v': 2001,\n            'f': \"2001\",\n        }],\n [{\n            'v': 58,\n            'f': \"58\",\n        },\n{\n            'v': 439,\n            'f': \"439\",\n        },\n{\n            'v': 1.5,\n            'f': \"1.5\",\n        },\n{\n            'v': 2003,\n            'f': \"2003\",\n        }],\n [{\n            'v': 52,\n            'f': \"52\",\n        },\n{\n            'v': 825,\n            'f': \"825\",\n        },\n{\n            'v': 4.0,\n            'f': \"4.0\",\n        },\n{\n            'v': 2016,\n            'f': \"2016\",\n        }],\n [{\n            'v': 70,\n            'f': \"70\",\n        },\n{\n            'v': 619,\n            'f': \"619\",\n        },\n{\n            'v': 5.0,\n            'f': \"5.0\",\n        },\n{\n            'v': 1996,\n            'f': \"1996\",\n        }],\n [{\n            'v': 3,\n            'f': \"3\",\n        },\n{\n            'v': 979,\n            'f': \"979\",\n        },\n{\n            'v': 3.0,\n            'f': \"3.0\",\n        },\n{\n            'v': 1997,\n            'f': \"1997\",\n        }],\n [{\n            'v': 7,\n            'f': \"7\",\n        },\n{\n            'v': 368,\n            'f': \"368\",\n        },\n{\n            'v': 2.5,\n            'f': \"2.5\",\n        },\n{\n            'v': 2006,\n            'f': \"2006\",\n        }],\n [{\n            'v': 47,\n            'f': \"47\",\n        },\n{\n            'v': 51,\n            'f': \"51\",\n        },\n{\n            'v': 5.0,\n            'f': \"5.0\",\n        },\n{\n            'v': 2008,\n            'f': \"2008\",\n        }],\n [{\n            'v': 39,\n            'f': \"39\",\n        },\n{\n            'v': 308,\n            'f': \"308\",\n        },\n{\n            'v': 4.0,\n            'f': \"4.0\",\n        },\n{\n            'v': 2001,\n            'f': \"2001\",\n        }],\n [{\n            'v': 15,\n            'f': \"15\",\n        },\n{\n            'v': 875,\n            'f': \"875\",\n        },\n{\n            'v': 4.0,\n            'f': \"4.0\",\n        },\n{\n            'v': 1996,\n            'f': \"1996\",\n        }],\n [{\n            'v': 62,\n            'f': \"62\",\n        },\n{\n            'v': 368,\n            'f': \"368\",\n        },\n{\n            'v': 4.0,\n            'f': \"4.0\",\n        },\n{\n            'v': 2006,\n            'f': \"2006\",\n        }],\n [{\n            'v': 29,\n            'f': \"29\",\n        },\n{\n            'v': 592,\n            'f': \"592\",\n        },\n{\n            'v': 4.0,\n            'f': \"4.0\",\n        },\n{\n            'v': 2000,\n            'f': \"2000\",\n        }],\n [{\n            'v': 31,\n            'f': \"31\",\n        },\n{\n            'v': 767,\n            'f': \"767\",\n        },\n{\n            'v': 3.0,\n            'f': \"3.0\",\n        },\n{\n            'v': 1996,\n            'f': \"1996\",\n        }],\n [{\n            'v': 25,\n            'f': \"25\",\n        },\n{\n            'v': 339,\n            'f': \"339\",\n        },\n{\n            'v': 5.0,\n            'f': \"5.0\",\n        },\n{\n            'v': 1997,\n            'f': \"1997\",\n        }],\n [{\n            'v': 34,\n            'f': \"34\",\n        },\n{\n            'v': 682,\n            'f': \"682\",\n        },\n{\n            'v': 4.0,\n            'f': \"4.0\",\n        },\n{\n            'v': 2000,\n            'f': \"2000\",\n        }],\n [{\n            'v': 19,\n            'f': \"19\",\n        },\n{\n            'v': 63,\n            'f': \"63\",\n        },\n{\n            'v': 0.5,\n            'f': \"0.5\",\n        },\n{\n            'v': 2007,\n            'f': \"2007\",\n        }],\n [{\n            'v': 19,\n            'f': \"19\",\n        },\n{\n            'v': 240,\n            'f': \"240\",\n        },\n{\n            'v': 1.5,\n            'f': \"1.5\",\n        },\n{\n            'v': 2003,\n            'f': \"2003\",\n        }],\n [{\n            'v': 2,\n            'f': \"2\",\n        },\n{\n            'v': 390,\n            'f': \"390\",\n        },\n{\n            'v': 2.0,\n            'f': \"2.0\",\n        },\n{\n            'v': 2005,\n            'f': \"2005\",\n        }],\n [{\n            'v': 19,\n            'f': \"19\",\n        },\n{\n            'v': 533,\n            'f': \"533\",\n        },\n{\n            'v': 3.0,\n            'f': \"3.0\",\n        },\n{\n            'v': 2000,\n            'f': \"2000\",\n        }],\n [{\n            'v': 34,\n            'f': \"34\",\n        },\n{\n            'v': 332,\n            'f': \"332\",\n        },\n{\n            'v': 2.5,\n            'f': \"2.5\",\n        },\n{\n            'v': 2009,\n            'f': \"2009\",\n        }],\n [{\n            'v': 29,\n            'f': \"29\",\n        },\n{\n            'v': 924,\n            'f': \"924\",\n        },\n{\n            'v': 4.0,\n            'f': \"4.0\",\n        },\n{\n            'v': 2015,\n            'f': \"2015\",\n        }],\n [{\n            'v': 34,\n            'f': \"34\",\n        },\n{\n            'v': 881,\n            'f': \"881\",\n        },\n{\n            'v': 4.0,\n            'f': \"4.0\",\n        },\n{\n            'v': 2006,\n            'f': \"2006\",\n        }],\n [{\n            'v': 34,\n            'f': \"34\",\n        },\n{\n            'v': 546,\n            'f': \"546\",\n        },\n{\n            'v': 5.0,\n            'f': \"5.0\",\n        },\n{\n            'v': 1996,\n            'f': \"1996\",\n        }],\n [{\n            'v': 25,\n            'f': \"25\",\n        },\n{\n            'v': 638,\n            'f': \"638\",\n        },\n{\n            'v': 4.0,\n            'f': \"4.0\",\n        },\n{\n            'v': 1996,\n            'f': \"1996\",\n        }],\n [{\n            'v': 25,\n            'f': \"25\",\n        },\n{\n            'v': 640,\n            'f': \"640\",\n        },\n{\n            'v': 3.5,\n            'f': \"3.5\",\n        },\n{\n            'v': 2004,\n            'f': \"2004\",\n        }],\n [{\n            'v': 6,\n            'f': \"6\",\n        },\n{\n            'v': 52,\n            'f': \"52\",\n        },\n{\n            'v': 3.0,\n            'f': \"3.0\",\n        },\n{\n            'v': 1997,\n            'f': \"1997\",\n        }],\n [{\n            'v': 1,\n            'f': \"1\",\n        },\n{\n            'v': 75,\n            'f': \"75\",\n        },\n{\n            'v': 4.0,\n            'f': \"4.0\",\n        },\n{\n            'v': 2007,\n            'f': \"2007\",\n        }],\n [{\n            'v': 6,\n            'f': \"6\",\n        },\n{\n            'v': 619,\n            'f': \"619\",\n        },\n{\n            'v': 2.0,\n            'f': \"2.0\",\n        },\n{\n            'v': 1996,\n            'f': \"1996\",\n        }],\n [{\n            'v': 6,\n            'f': \"6\",\n        },\n{\n            'v': 483,\n            'f': \"483\",\n        },\n{\n            'v': 4.0,\n            'f': \"4.0\",\n        },\n{\n            'v': 2007,\n            'f': \"2007\",\n        }],\n [{\n            'v': 1,\n            'f': \"1\",\n        },\n{\n            'v': 627,\n            'f': \"627\",\n        },\n{\n            'v': 3.5,\n            'f': \"3.5\",\n        },\n{\n            'v': 2006,\n            'f': \"2006\",\n        }],\n [{\n            'v': 1,\n            'f': \"1\",\n        },\n{\n            'v': 682,\n            'f': \"682\",\n        },\n{\n            'v': 4.0,\n            'f': \"4.0\",\n        },\n{\n            'v': 2000,\n            'f': \"2000\",\n        }],\n [{\n            'v': 32,\n            'f': \"32\",\n        },\n{\n            'v': 726,\n            'f': \"726\",\n        },\n{\n            'v': 5.0,\n            'f': \"5.0\",\n        },\n{\n            'v': 2009,\n            'f': \"2009\",\n        }],\n [{\n            'v': 1,\n            'f': \"1\",\n        },\n{\n            'v': 346,\n            'f': \"346\",\n        },\n{\n            'v': 4.0,\n            'f': \"4.0\",\n        },\n{\n            'v': 1999,\n            'f': \"1999\",\n        }],\n [{\n            'v': 1,\n            'f': \"1\",\n        },\n{\n            'v': 845,\n            'f': \"845\",\n        },\n{\n            'v': 2.0,\n            'f': \"2.0\",\n        },\n{\n            'v': 1996,\n            'f': \"1996\",\n        }],\n [{\n            'v': 10,\n            'f': \"10\",\n        },\n{\n            'v': 127,\n            'f': \"127\",\n        },\n{\n            'v': 3.0,\n            'f': \"3.0\",\n        },\n{\n            'v': 1996,\n            'f': \"1996\",\n        }],\n [{\n            'v': 1,\n            'f': \"1\",\n        },\n{\n            'v': 638,\n            'f': \"638\",\n        },\n{\n            'v': 5.0,\n            'f': \"5.0\",\n        },\n{\n            'v': 1996,\n            'f': \"1996\",\n        }],\n [{\n            'v': 95,\n            'f': \"95\",\n        },\n{\n            'v': 455,\n            'f': \"455\",\n        },\n{\n            'v': 3.0,\n            'f': \"3.0\",\n        },\n{\n            'v': 1996,\n            'f': \"1996\",\n        }],\n [{\n            'v': 1,\n            'f': \"1\",\n        },\n{\n            'v': 196,\n            'f': \"196\",\n        },\n{\n            'v': 3.0,\n            'f': \"3.0\",\n        },\n{\n            'v': 1996,\n            'f': \"1996\",\n        }],\n [{\n            'v': 1,\n            'f': \"1\",\n        },\n{\n            'v': 44,\n            'f': \"44\",\n        },\n{\n            'v': 5.0,\n            'f': \"5.0\",\n        },\n{\n            'v': 1996,\n            'f': \"1996\",\n        }],\n [{\n            'v': 68,\n            'f': \"68\",\n        },\n{\n            'v': 635,\n            'f': \"635\",\n        },\n{\n            'v': 4.0,\n            'f': \"4.0\",\n        },\n{\n            'v': 1996,\n            'f': \"1996\",\n        }],\n [{\n            'v': 32,\n            'f': \"32\",\n        },\n{\n            'v': 87,\n            'f': \"87\",\n        },\n{\n            'v': 3.0,\n            'f': \"3.0\",\n        },\n{\n            'v': 1997,\n            'f': \"1997\",\n        }],\n [{\n            'v': 1,\n            'f': \"1\",\n        },\n{\n            'v': 760,\n            'f': \"760\",\n        },\n{\n            'v': 5.0,\n            'f': \"5.0\",\n        },\n{\n            'v': 1996,\n            'f': \"1996\",\n        }],\n [{\n            'v': 69,\n            'f': \"69\",\n        },\n{\n            'v': 798,\n            'f': \"798\",\n        },\n{\n            'v': 3.0,\n            'f': \"3.0\",\n        },\n{\n            'v': 2000,\n            'f': \"2000\",\n        }],\n [{\n            'v': 95,\n            'f': \"95\",\n        },\n{\n            'v': 430,\n            'f': \"430\",\n        },\n{\n            'v': 3.0,\n            'f': \"3.0\",\n        },\n{\n            'v': 1996,\n            'f': \"1996\",\n        }],\n [{\n            'v': 10,\n            'f': \"10\",\n        },\n{\n            'v': 984,\n            'f': \"984\",\n        },\n{\n            'v': 4.0,\n            'f': \"4.0\",\n        },\n{\n            'v': 1996,\n            'f': \"1996\",\n        }],\n [{\n            'v': 36,\n            'f': \"36\",\n        },\n{\n            'v': 261,\n            'f': \"261\",\n        },\n{\n            'v': 2.0,\n            'f': \"2.0\",\n        },\n{\n            'v': 1997,\n            'f': \"1997\",\n        }],\n [{\n            'v': 44,\n            'f': \"44\",\n        },\n{\n            'v': 314,\n            'f': \"314\",\n        },\n{\n            'v': 1.5,\n            'f': \"1.5\",\n        },\n{\n            'v': 2010,\n            'f': \"2010\",\n        }]],\n        columns: [[\"number\", \"nF\"], [\"number\", \"nU\"], [\"number\", \"note\"], [\"number\", \"annee\"]],\n        columnOptions: [],\n        rowsPerPage: 10,\n        helpUrl: \"https://colab.research.google.com/notebooks/data_table.ipynb\",\n        suppressOutputScrolling: true,\n        minimumWidth: undefined,\n      });\n    ",
      "text/html": [
       "<div>\n",
       "<style scoped>\n",
       "    .dataframe tbody tr th:only-of-type {\n",
       "        vertical-align: middle;\n",
       "    }\n",
       "\n",
       "    .dataframe tbody tr th {\n",
       "        vertical-align: top;\n",
       "    }\n",
       "\n",
       "    .dataframe thead th {\n",
       "        text-align: right;\n",
       "    }\n",
       "</style>\n",
       "<table border=\"1\" class=\"dataframe\">\n",
       "  <thead>\n",
       "    <tr style=\"text-align: right;\">\n",
       "      <th></th>\n",
       "      <th>nF</th>\n",
       "      <th>nU</th>\n",
       "      <th>note</th>\n",
       "      <th>annee</th>\n",
       "    </tr>\n",
       "  </thead>\n",
       "  <tbody>\n",
       "    <tr>\n",
       "      <th>0</th>\n",
       "      <td>19</td>\n",
       "      <td>76</td>\n",
       "      <td>1.5</td>\n",
       "      <td>2011</td>\n",
       "    </tr>\n",
       "    <tr>\n",
       "      <th>1</th>\n",
       "      <td>62</td>\n",
       "      <td>691</td>\n",
       "      <td>5.0</td>\n",
       "      <td>1996</td>\n",
       "    </tr>\n",
       "    <tr>\n",
       "      <th>2</th>\n",
       "      <td>25</td>\n",
       "      <td>832</td>\n",
       "      <td>5.0</td>\n",
       "      <td>1998</td>\n",
       "    </tr>\n",
       "    <tr>\n",
       "      <th>3</th>\n",
       "      <td>5</td>\n",
       "      <td>296</td>\n",
       "      <td>3.5</td>\n",
       "      <td>2005</td>\n",
       "    </tr>\n",
       "    <tr>\n",
       "      <th>4</th>\n",
       "      <td>48</td>\n",
       "      <td>781</td>\n",
       "      <td>3.0</td>\n",
       "      <td>1996</td>\n",
       "    </tr>\n",
       "    <tr>\n",
       "      <th>...</th>\n",
       "      <td>...</td>\n",
       "      <td>...</td>\n",
       "      <td>...</td>\n",
       "      <td>...</td>\n",
       "    </tr>\n",
       "    <tr>\n",
       "      <th>95</th>\n",
       "      <td>69</td>\n",
       "      <td>798</td>\n",
       "      <td>3.0</td>\n",
       "      <td>2000</td>\n",
       "    </tr>\n",
       "    <tr>\n",
       "      <th>96</th>\n",
       "      <td>95</td>\n",
       "      <td>430</td>\n",
       "      <td>3.0</td>\n",
       "      <td>1996</td>\n",
       "    </tr>\n",
       "    <tr>\n",
       "      <th>97</th>\n",
       "      <td>10</td>\n",
       "      <td>984</td>\n",
       "      <td>4.0</td>\n",
       "      <td>1996</td>\n",
       "    </tr>\n",
       "    <tr>\n",
       "      <th>98</th>\n",
       "      <td>36</td>\n",
       "      <td>261</td>\n",
       "      <td>2.0</td>\n",
       "      <td>1997</td>\n",
       "    </tr>\n",
       "    <tr>\n",
       "      <th>99</th>\n",
       "      <td>44</td>\n",
       "      <td>314</td>\n",
       "      <td>1.5</td>\n",
       "      <td>2010</td>\n",
       "    </tr>\n",
       "  </tbody>\n",
       "</table>\n",
       "<p>100 rows × 4 columns</p>\n",
       "</div>"
      ],
      "text/plain": [
       "<google.colab.data_table.DataTable object>"
      ]
     },
     "execution_count": 16,
     "metadata": {},
     "output_type": "execute_result"
    }
   ],
   "source": [
    "notes_schema = StructType([StructField('nF',LongType()),\n",
    "                           StructField('nU',LongType()),\n",
    "                           StructField('note',DoubleType()),\n",
    "                           StructField('annee',LongType())])\n",
    "\n",
    "notes = spark.read.json(local_dir + \"/\" + \"notes1M.json\", schema = notes_schema).selectExpr(\"nF\", \"nU\", \"note\", \"annee\")\n",
    "\n",
    "#extrait\n",
    "notes_extrait = notes.where(\"nU < 1000\").join(film_extrait, \"nF\").select(notes[\"nF\"], \"nU\", \"note\", \"annee\").repartition(3).persist()\n",
    "print(notes_extrait.count())\n",
    "display(notes_extrait)"
   ]
  },
  {
   "cell_type": "markdown",
   "metadata": {
    "id": "SOfASuTyHl94"
   },
   "source": [
    "# Exercice 1 : Traitement sur des partitions"
   ]
  },
  {
   "cell_type": "markdown",
   "metadata": {
    "application/vnd.databricks.v1+cell": {
     "inputWidgets": {},
     "nuid": "52fd9538-28a9-4974-92ea-8a7be60563c3",
     "showTitle": false,
     "title": ""
    },
    "id": "hd_sMjv2Hl95"
   },
   "source": [
    "#### Fonction showPartitionSize\n",
    "\n",
    "La fonction *showPartitionSize*  affiche le nombre d'éléments dans chaque partition"
   ]
  },
  {
   "cell_type": "code",
   "execution_count": 17,
   "metadata": {
    "colab": {
     "base_uri": "https://localhost:8080/"
    },
    "id": "GOnraF_THl95",
    "outputId": "7945d36f-351d-4c45-afda-8008461c6da7"
   },
   "outputs": [
    {
     "name": "stdout",
     "output_type": "stream",
     "text": [
      "showPartitionSize définie\n"
     ]
    }
   ],
   "source": [
    "# La fonction part_size prend en paramètres un numéro de partition (partID) et un itérateur sur une partition.\n",
    "# Elle retourne un itérateur sur une partition qui contient un seul tuple (num_partition, nbtuples).\n",
    "\n",
    "def partSize(partID, iterateur):\n",
    "  size=0\n",
    "  suivant = next(iterateur, None)\n",
    "  while suivant is not None :\n",
    "    size += 1\n",
    "    suivant = next(iterateur, None)\n",
    "  yield (partID, size)\n",
    "\n",
    "\n",
    "def showPartitionSize(df):\n",
    "  if df.isEmpty():\n",
    "    print(\"empty dataframe\")\n",
    "  else:\n",
    "    #invoquer la fonction partSize sur chaque partition \n",
    "    t = df.selectExpr(\"1\").rdd.mapPartitionsWithIndex(partSize).toDF(['partID', 'size'])\n",
    "\n",
    "    # Rmq : selectExpr(\"1\") sert à simplifier la partition pour ne garder qu'une seule colonne contentant des \"1\",\n",
    "    # ce qui est suffisant pour compter le nombre de tuples dans la partition.\n",
    "\n",
    "    #affichage\n",
    "    t.show()\n",
    "\n",
    "print('showPartitionSize définie')"
   ]
  },
  {
   "cell_type": "markdown",
   "metadata": {
    "id": "SQZISkFBHl97"
   },
   "source": [
    "#### Fonction showPartitions\n",
    " \n",
    "La fonction *showPartitions*  affiche les _n_ premiers éléments de chaque partition\n"
   ]
  },
  {
   "cell_type": "code",
   "execution_count": 18,
   "metadata": {
    "application/vnd.databricks.v1+cell": {
     "inputWidgets": {},
     "nuid": "f626210f-dce5-457b-a05b-1dd3e6af87a2",
     "showTitle": false,
     "title": ""
    },
    "colab": {
     "base_uri": "https://localhost:8080/"
    },
    "id": "iqGwTLXeHl98",
    "outputId": "351ee1ba-c574-4404-9271-c64495463c60"
   },
   "outputs": [
    {
     "name": "stdout",
     "output_type": "stream",
     "text": [
      "showPartitions définie\n"
     ]
    }
   ],
   "source": [
    "def showPartitions(df, N=5 , display_per_partition=True):\n",
    "  if df.isEmpty():\n",
    "     print(\"empty dataframe\")\n",
    "  else:   \n",
    "    nb_partitions = df.rdd.getNumPartitions()\n",
    "\n",
    "    # fonction topN est invoquée sur une partition.\n",
    "    # topN retourne un itérateur sur une partition qui contient les N premiers éléments de cette partition\n",
    "    def topN(partID, iterateur):\n",
    "      c=0\n",
    "      suivant = next(iterateur, None)\n",
    "      while suivant is not None and c < N :\n",
    "        c+=1\n",
    "        tuple_avec_numero_partition = (partID, *suivant)\n",
    "        suivant = next(iterateur, None)\n",
    "        yield tuple_avec_numero_partition\n",
    "    #-- fin de topN ---\n",
    "\n",
    "    partid_tmp = \"_p_\"\n",
    "    nom_attributs = [partid_tmp] + df.schema.fieldNames()\n",
    "    premiers_tuples = df.rdd.mapPartitionsWithIndex(topN).toDF(nom_attributs)\n",
    "    premiers_tuples.persist()\n",
    "\n",
    "    if(display_per_partition):\n",
    "      # afficher séparément le contenu du début de chaque partition\n",
    "      for partID in range(nb_partitions):\n",
    "        print(\"partition\", partID)\n",
    "        # afficher la partition partID\n",
    "        premiers_tuples.where(col(partid_tmp)==partID).drop(partid_tmp).show(N, False)\n",
    "    else:\n",
    "      return display(premiers_tuples)\n",
    "   \n",
    "print('showPartitions définie')"
   ]
  },
  {
   "cell_type": "markdown",
   "metadata": {
    "id": "x_4h7vjoHl99"
   },
   "source": [
    "Afficher la taille de chaque partition"
   ]
  },
  {
   "cell_type": "code",
   "execution_count": 19,
   "metadata": {
    "colab": {
     "base_uri": "https://localhost:8080/"
    },
    "id": "A4HzKBEsHl99",
    "outputId": "8bfbac0d-5c00-4c28-c860-88716f411471"
   },
   "outputs": [
    {
     "name": "stdout",
     "output_type": "stream",
     "text": [
      "+------+----+\n",
      "|partID|size|\n",
      "+------+----+\n",
      "|     0|  31|\n",
      "|     1|  31|\n",
      "|     2|  30|\n",
      "+------+----+\n",
      "\n"
     ]
    }
   ],
   "source": [
    "showPartitionSize(film_extrait)"
   ]
  },
  {
   "cell_type": "markdown",
   "metadata": {
    "id": "mUExOALZHl9-"
   },
   "source": [
    "Afficher les premiers éléments de chaque partition"
   ]
  },
  {
   "cell_type": "code",
   "execution_count": 20,
   "metadata": {
    "colab": {
     "base_uri": "https://localhost:8080/"
    },
    "id": "Rd3zHou6Hl9_",
    "outputId": "df548c70-51a1-47aa-df37-18c3a44e3ad0"
   },
   "outputs": [
    {
     "name": "stdout",
     "output_type": "stream",
     "text": [
      "partition 0\n",
      "+---+---------------------------------+-------------------------+\n",
      "|nF |titre                            |genres                   |\n",
      "+---+---------------------------------+-------------------------+\n",
      "|94 |Beautiful Girls (1996)           |[Comedy, Drama, Romance] |\n",
      "|45 |To Die For (1995)                |[Comedy, Drama, Thriller]|\n",
      "|58 |Postman, The (Postino, Il) (1994)|[Comedy, Drama, Romance] |\n",
      "|54 |Big Green, The (1995)            |[Children, Comedy]       |\n",
      "|9  |Sudden Death (1995)              |[Action]                 |\n",
      "+---+---------------------------------+-------------------------+\n",
      "\n",
      "partition 1\n",
      "+---+--------------------------------------------+-----------------+\n",
      "|nF |titre                                       |genres           |\n",
      "+---+--------------------------------------------+-----------------+\n",
      "|14 |Nixon (1995)                                |[Drama]          |\n",
      "|71 |Fair Game (1995)                            |[Action]         |\n",
      "|49 |When Night Is Falling (1995)                |[Drama, Romance] |\n",
      "|27 |Now and Then (1995)                         |[Children, Drama]|\n",
      "|59 |Confessional, The (Confessionnal, Le) (1995)|[Drama, Mystery] |\n",
      "+---+--------------------------------------------+-----------------+\n",
      "\n",
      "partition 2\n",
      "+---+-------------------------------------------------------------------------------+-----------------------------+\n",
      "|nF |titre                                                                          |genres                       |\n",
      "+---+-------------------------------------------------------------------------------+-----------------------------+\n",
      "|72 |Kicking and Screaming (1995)                                                   |[Comedy, Drama]              |\n",
      "|21 |Get Shorty (1995)                                                              |[Comedy, Crime, Thriller]    |\n",
      "|63 |Don't Be a Menace to South Central While Drinking Your Juice in the Hood (1996)|[Comedy, Crime]              |\n",
      "|95 |Broken Arrow (1996)                                                            |[Action, Adventure, Thriller]|\n",
      "|8  |Tom and Huck (1995)                                                            |[Adventure, Children]        |\n",
      "+---+-------------------------------------------------------------------------------+-----------------------------+\n",
      "\n"
     ]
    }
   ],
   "source": [
    "showPartitions(film_extrait,5)"
   ]
  },
  {
   "cell_type": "markdown",
   "metadata": {
    "id": "1eaiNKFxHl-A"
   },
   "source": [
    "## Question 1 : Tri des films par titre\n",
    "\n",
    "En vous inspirant de la fonction *topN*  définir une fonction qui tri les données de *film_extrait* par titre. Le résultat a le meme schéma que film."
   ]
  },
  {
   "cell_type": "code",
   "execution_count": 21,
   "metadata": {
    "colab": {
     "base_uri": "https://localhost:8080/"
    },
    "id": "la24EdjjHl-A",
    "outputId": "f8b2ca83-80af-4ff7-8f01-7112c93000bc",
    "scrolled": false
   },
   "outputs": [
    {
     "name": "stdout",
     "output_type": "stream",
     "text": [
      "partition 0\n",
      "+---+---+----------------------------------------------------+-------------------------------------------------+\n",
      "|p  |nF |titre                                               |genres                                           |\n",
      "+---+---+----------------------------------------------------+-------------------------------------------------+\n",
      "|0  |13 |Balto (1995)                                        |[Adventure, Animation, Children]                 |\n",
      "|0  |94 |Beautiful Girls (1996)                              |[Comedy, Drama, Romance]                         |\n",
      "|0  |54 |Big Green, The (1995)                               |[Children, Comedy]                               |\n",
      "|0  |88 |Black Sheep (1996)                                  |[Comedy]                                         |\n",
      "|0  |35 |Carrington (1995)                                   |[Drama, Romance]                                 |\n",
      "|0  |39 |Clueless (1995)                                     |[Comedy, Romance]                                |\n",
      "|0  |22 |Copycat (1995)                                      |[Crime, Drama, Horror, Mystery, Thriller]        |\n",
      "|0  |36 |Dead Man Walking (1995)                             |[Crime, Drama]                                   |\n",
      "|0  |12 |Dracula: Dead and Loving It (1995)                  |[Comedy, Horror]                                 |\n",
      "|0  |87 |Dunston Checks In (1996)                            |[Children, Comedy]                               |\n",
      "|0  |70 |From Dusk Till Dawn (1996)                          |[Action, Comedy, Horror, Thriller]               |\n",
      "|1  |97 |Hate (Haine, La) (1995)                             |[Crime, Drama]                                   |\n",
      "|1  |57 |Home for the Holidays (1995)                        |[Drama]                                          |\n",
      "|1  |46 |How to Make an American Quilt (1995)                |[Drama, Romance]                                 |\n",
      "|1  |2  |Jumanji (1995)                                      |[Adventure, Children, Fantasy]                   |\n",
      "|1  |66 |Lawnmower Man 2: Beyond Cyberspace (1996)           |[Action, Sci-Fi, Thriller]                       |\n",
      "|1  |25 |Leaving Las Vegas (1995)                            |[Drama, Romance]                                 |\n",
      "|1  |73 |Misérables, Les (1995)                              |[Drama, War]                                     |\n",
      "|1  |20 |Money Train (1995)                                  |[Action, Comedy, Crime, Drama, Thriller]         |\n",
      "|1  |83 |Once Upon a Time... When We Were Colored (1995)     |[Drama, Romance]                                 |\n",
      "|2  |58 |Postman, The (Postino, Il) (1994)                   |[Comedy, Drama, Romance]                         |\n",
      "|2  |24 |Powder (1995)                                       |[Drama, Sci-Fi]                                  |\n",
      "|2  |17 |Sense and Sensibility (1995)                        |[Drama, Romance]                                 |\n",
      "|2  |30 |Shanghai Triad (Yao a yao yao dao waipo qiao) (1995)|[Crime, Drama]                                   |\n",
      "|2  |9  |Sudden Death (1995)                                 |[Action]                                         |\n",
      "|2  |45 |To Die For (1995)                                   |[Comedy, Drama, Thriller]                        |\n",
      "|2  |1  |Toy Story (1995)                                    |[Adventure, Animation, Children, Comedy, Fantasy]|\n",
      "|2  |93 |Vampire in Brooklyn (1995)                          |[Comedy, Horror, Romance]                        |\n",
      "|2  |4  |Waiting to Exhale (1995)                            |[Comedy, Drama, Romance]                         |\n",
      "|2  |80 |White Balloon, The (Badkonake sefid) (1995)         |[Children, Drama]                                |\n",
      "+---+---+----------------------------------------------------+-------------------------------------------------+\n",
      "\n",
      "partition 1\n",
      "+---+---+----------------------------------------------+----------------------------------------------+\n",
      "|p  |nF |titre                                         |genres                                        |\n",
      "+---+---+----------------------------------------------+----------------------------------------------+\n",
      "|0  |19 |Ace Ventura: When Nature Calls (1995)         |[Comedy]                                      |\n",
      "|0  |23 |Assassins (1995)                              |[Action, Crime, Thriller]                     |\n",
      "|0  |34 |Babe (1995)                                   |[Children, Drama]                             |\n",
      "|0  |74 |Bed of Roses (1996)                           |[Drama, Romance]                              |\n",
      "|0  |65 |Bio-Dome (1996)                               |[Comedy]                                      |\n",
      "|0  |16 |Casino (1995)                                 |[Crime, Drama]                                |\n",
      "|0  |59 |Confessional, The (Confessionnal, Le) (1995)  |[Drama, Mystery]                              |\n",
      "|0  |78 |Crossing Guard, The (1995)                    |[Action, Crime, Drama, Thriller]              |\n",
      "|0  |40 |Cry, the Beloved Country (1995)               |[Drama]                                       |\n",
      "|0  |42 |Dead Presidents (1995)                        |[Action, Crime, Drama]                        |\n",
      "|0  |61 |Eye for an Eye (1996)                         |[Drama, Thriller]                             |\n",
      "|0  |71 |Fair Game (1995)                              |[Action]                                      |\n",
      "|0  |5  |Father of the Bride Part II (1995)            |[Comedy]                                      |\n",
      "|0  |10 |GoldenEye (1995)                              |[Action, Adventure, Thriller]                 |\n",
      "|0  |3  |Grumpier Old Men (1995)                       |[Comedy, Romance]                             |\n",
      "|1  |99 |Heidi Fleiss: Hollywood Madam (1995)          |[Documentary]                                 |\n",
      "|1  |60 |Indian in the Cupboard, The (1995)            |[Adventure, Children, Fantasy]                |\n",
      "|1  |84 |Last Summer in the Hamptons (1995)            |[Comedy, Drama]                               |\n",
      "|1  |52 |Mighty Aphrodite (1995)                       |[Comedy, Drama, Romance]                      |\n",
      "|1  |62 |Mr. Holland's Opus (1995)                     |[Drama]                                       |\n",
      "|1  |89 |Nick of Time (1995)                           |[Action, Thriller]                            |\n",
      "|1  |14 |Nixon (1995)                                  |[Drama]                                       |\n",
      "|1  |27 |Now and Then (1995)                           |[Children, Drama]                             |\n",
      "|2  |48 |Pocahontas (1995)                             |[Animation, Children, Drama, Musical, Romance]|\n",
      "|2  |43 |Restoration (1995)                            |[Drama]                                       |\n",
      "|2  |7  |Sabrina (1995)                                |[Comedy, Romance]                             |\n",
      "|2  |76 |Screamers (1995)                              |[Action, Sci-Fi, Thriller]                    |\n",
      "|2  |47 |Seven (a.k.a. Se7en) (1995)                   |[Mystery, Thriller]                           |\n",
      "|2  |98 |Shopping (1994)                               |[Action, Thriller]                            |\n",
      "|2  |81 |Things to Do in Denver When You're Dead (1995)|[Crime, Drama, Romance]                       |\n",
      "+---+---+----------------------------------------------+----------------------------------------------+\n",
      "\n",
      "partition 2\n",
      "+---+---+-------------------------------------------------------------------------------+--------------------------------------------+\n",
      "|p  |nF |titre                                                                          |genres                                      |\n",
      "+---+---+-------------------------------------------------------------------------------+--------------------------------------------+\n",
      "|0  |37 |Across the Sea of Time (1995)                                                  |[Documentary, IMAX]                         |\n",
      "|0  |11 |American President, The (1995)                                                 |[Comedy, Drama, Romance]                    |\n",
      "|0  |85 |Angels and Insects (1995)                                                      |[Drama, Romance]                            |\n",
      "|0  |82 |Antonia's Line (Antonia) (1995)                                                |[Comedy, Drama]                             |\n",
      "|0  |95 |Broken Arrow (1996)                                                            |[Action, Adventure, Thriller]               |\n",
      "|0  |29 |City of Lost Children, The (Cité des enfants perdus, La) (1995)                |[Adventure, Drama, Fantasy, Mystery, Sci-Fi]|\n",
      "|0  |15 |Cutthroat Island (1995)                                                        |[Action, Adventure, Romance]                |\n",
      "|0  |31 |Dangerous Minds (1995)                                                         |[Drama]                                     |\n",
      "|0  |63 |Don't Be a Menace to South Central While Drinking Your Juice in the Hood (1996)|[Comedy, Crime]                             |\n",
      "|0  |18 |Four Rooms (1995)                                                              |[Comedy]                                    |\n",
      "|0  |68 |French Twist (Gazon maudit) (1995)                                             |[Comedy, Romance]                           |\n",
      "|0  |69 |Friday (1995)                                                                  |[Comedy]                                    |\n",
      "|0  |55 |Georgia (1995)                                                                 |[Drama]                                     |\n",
      "|0  |21 |Get Shorty (1995)                                                              |[Comedy, Crime, Thriller]                   |\n",
      "|1  |6  |Heat (1995)                                                                    |[Action, Crime, Thriller]                   |\n",
      "|1  |96 |In the Bleak Midwinter (1995)                                                  |[Comedy, Drama]                             |\n",
      "|1  |38 |It Takes Two (1995)                                                            |[Children, Comedy]                          |\n",
      "|1  |79 |Juror, The (1996)                                                              |[Drama, Thriller]                           |\n",
      "|1  |72 |Kicking and Screaming (1995)                                                   |[Comedy, Drama]                             |\n",
      "|1  |53 |Lamerica (1994)                                                                |[Adventure, Drama]                          |\n",
      "|1  |92 |Mary Reilly (1996)                                                             |[Drama, Horror, Thriller]                   |\n",
      "|1  |44 |Mortal Kombat (1995)                                                           |[Action, Adventure, Fantasy]                |\n",
      "|1  |77 |Nico Icon (1995)                                                               |[Documentary]                               |\n",
      "|1  |26 |Othello (1995)                                                                 |[Drama]                                     |\n",
      "|2  |28 |Persuasion (1995)                                                              |[Drama, Romance]                            |\n",
      "|2  |41 |Richard III (1995)                                                             |[Drama, War]                                |\n",
      "|2  |8  |Tom and Huck (1995)                                                            |[Adventure, Children]                       |\n",
      "|2  |32 |Twelve Monkeys (a.k.a. 12 Monkeys) (1995)                                      |[Mystery, Sci-Fi, Thriller]                 |\n",
      "|2  |64 |Two if by Sea (1996)                                                           |[Comedy, Romance]                           |\n",
      "|2  |50 |Usual Suspects, The (1995)                                                     |[Crime, Mystery, Thriller]                  |\n",
      "+---+---+-------------------------------------------------------------------------------+--------------------------------------------+\n",
      "\n"
     ]
    }
   ],
   "source": [
    "\n",
    "def tri_par_titre(iterateur):\n",
    "  suivant = next(iterateur, None)\n",
    "  groupes = [[] for x in range(3)]\n",
    "  while suivant is not None:\n",
    "    lettre1 = suivant.titre[0]\n",
    "    if lettre1 < 'H':\n",
    "      p=0\n",
    "    elif lettre1 < 'P':\n",
    "      p=1\n",
    "    else:\n",
    "      p=2\n",
    "    groupes[p].append((p, *suivant))\n",
    "    suivant = next(iterateur, None)\n",
    "  for groupe in groupes:\n",
    "    for film in sorted(groupe, key=lambda t: t[2]):\n",
    "      yield film\n",
    "\n",
    "# tester la fonction\n",
    "# it = iter(film_extrait.limit(3).collect())\n",
    "# for x in tri_par_titre(it):\n",
    "#   print(x)\n",
    "\n",
    "names = [\"p\"] + film_extrait.schema.fieldNames()\n",
    "film1 = film_extrait.rdd.mapPartitions(tri_par_titre).toDF(names)\n",
    "showPartitions(film1,30)"
   ]
  },
  {
   "cell_type": "markdown",
   "metadata": {
    "id": "8Z58YdLp_ujG"
   },
   "source": [
    "repartitionner les données par **intervalle** en fonction de l'attribut p"
   ]
  },
  {
   "cell_type": "code",
   "execution_count": 22,
   "metadata": {
    "colab": {
     "base_uri": "https://localhost:8080/"
    },
    "id": "UklR-rQ0yXf-",
    "outputId": "ff58118c-9104-45ca-fce4-433d40eb3498"
   },
   "outputs": [
    {
     "name": "stdout",
     "output_type": "stream",
     "text": [
      "partition 0\n",
      "+---+---+--------------------------------------------+-----------------------------------------+\n",
      "|p  |nF |titre                                       |genres                                   |\n",
      "+---+---+--------------------------------------------+-----------------------------------------+\n",
      "|0  |13 |Balto (1995)                                |[Adventure, Animation, Children]         |\n",
      "|0  |94 |Beautiful Girls (1996)                      |[Comedy, Drama, Romance]                 |\n",
      "|0  |54 |Big Green, The (1995)                       |[Children, Comedy]                       |\n",
      "|0  |88 |Black Sheep (1996)                          |[Comedy]                                 |\n",
      "|0  |35 |Carrington (1995)                           |[Drama, Romance]                         |\n",
      "|0  |39 |Clueless (1995)                             |[Comedy, Romance]                        |\n",
      "|0  |22 |Copycat (1995)                              |[Crime, Drama, Horror, Mystery, Thriller]|\n",
      "|0  |36 |Dead Man Walking (1995)                     |[Crime, Drama]                           |\n",
      "|0  |12 |Dracula: Dead and Loving It (1995)          |[Comedy, Horror]                         |\n",
      "|0  |87 |Dunston Checks In (1996)                    |[Children, Comedy]                       |\n",
      "|0  |70 |From Dusk Till Dawn (1996)                  |[Action, Comedy, Horror, Thriller]       |\n",
      "|0  |19 |Ace Ventura: When Nature Calls (1995)       |[Comedy]                                 |\n",
      "|0  |23 |Assassins (1995)                            |[Action, Crime, Thriller]                |\n",
      "|0  |34 |Babe (1995)                                 |[Children, Drama]                        |\n",
      "|0  |74 |Bed of Roses (1996)                         |[Drama, Romance]                         |\n",
      "|0  |65 |Bio-Dome (1996)                             |[Comedy]                                 |\n",
      "|0  |16 |Casino (1995)                               |[Crime, Drama]                           |\n",
      "|0  |59 |Confessional, The (Confessionnal, Le) (1995)|[Drama, Mystery]                         |\n",
      "|0  |78 |Crossing Guard, The (1995)                  |[Action, Crime, Drama, Thriller]         |\n",
      "|0  |40 |Cry, the Beloved Country (1995)             |[Drama]                                  |\n",
      "+---+---+--------------------------------------------+-----------------------------------------+\n",
      "\n",
      "partition 1\n",
      "+---+---+-----------------------------------------------+----------------------------------------+\n",
      "|p  |nF |titre                                          |genres                                  |\n",
      "+---+---+-----------------------------------------------+----------------------------------------+\n",
      "|1  |97 |Hate (Haine, La) (1995)                        |[Crime, Drama]                          |\n",
      "|1  |57 |Home for the Holidays (1995)                   |[Drama]                                 |\n",
      "|1  |46 |How to Make an American Quilt (1995)           |[Drama, Romance]                        |\n",
      "|1  |2  |Jumanji (1995)                                 |[Adventure, Children, Fantasy]          |\n",
      "|1  |66 |Lawnmower Man 2: Beyond Cyberspace (1996)      |[Action, Sci-Fi, Thriller]              |\n",
      "|1  |25 |Leaving Las Vegas (1995)                       |[Drama, Romance]                        |\n",
      "|1  |73 |Misérables, Les (1995)                         |[Drama, War]                            |\n",
      "|1  |20 |Money Train (1995)                             |[Action, Comedy, Crime, Drama, Thriller]|\n",
      "|1  |83 |Once Upon a Time... When We Were Colored (1995)|[Drama, Romance]                        |\n",
      "|1  |99 |Heidi Fleiss: Hollywood Madam (1995)           |[Documentary]                           |\n",
      "|1  |60 |Indian in the Cupboard, The (1995)             |[Adventure, Children, Fantasy]          |\n",
      "|1  |84 |Last Summer in the Hamptons (1995)             |[Comedy, Drama]                         |\n",
      "|1  |52 |Mighty Aphrodite (1995)                        |[Comedy, Drama, Romance]                |\n",
      "|1  |62 |Mr. Holland's Opus (1995)                      |[Drama]                                 |\n",
      "|1  |89 |Nick of Time (1995)                            |[Action, Thriller]                      |\n",
      "|1  |14 |Nixon (1995)                                   |[Drama]                                 |\n",
      "|1  |27 |Now and Then (1995)                            |[Children, Drama]                       |\n",
      "|1  |6  |Heat (1995)                                    |[Action, Crime, Thriller]               |\n",
      "|1  |96 |In the Bleak Midwinter (1995)                  |[Comedy, Drama]                         |\n",
      "|1  |38 |It Takes Two (1995)                            |[Children, Comedy]                      |\n",
      "+---+---+-----------------------------------------------+----------------------------------------+\n",
      "\n",
      "partition 2\n",
      "+---+---+----------------------------------------------------+-------------------------------------------------+\n",
      "|p  |nF |titre                                               |genres                                           |\n",
      "+---+---+----------------------------------------------------+-------------------------------------------------+\n",
      "|2  |58 |Postman, The (Postino, Il) (1994)                   |[Comedy, Drama, Romance]                         |\n",
      "|2  |24 |Powder (1995)                                       |[Drama, Sci-Fi]                                  |\n",
      "|2  |17 |Sense and Sensibility (1995)                        |[Drama, Romance]                                 |\n",
      "|2  |30 |Shanghai Triad (Yao a yao yao dao waipo qiao) (1995)|[Crime, Drama]                                   |\n",
      "|2  |9  |Sudden Death (1995)                                 |[Action]                                         |\n",
      "|2  |45 |To Die For (1995)                                   |[Comedy, Drama, Thriller]                        |\n",
      "|2  |1  |Toy Story (1995)                                    |[Adventure, Animation, Children, Comedy, Fantasy]|\n",
      "|2  |93 |Vampire in Brooklyn (1995)                          |[Comedy, Horror, Romance]                        |\n",
      "|2  |4  |Waiting to Exhale (1995)                            |[Comedy, Drama, Romance]                         |\n",
      "|2  |80 |White Balloon, The (Badkonake sefid) (1995)         |[Children, Drama]                                |\n",
      "|2  |86 |White Squall (1996)                                 |[Action, Adventure, Drama]                       |\n",
      "|2  |48 |Pocahontas (1995)                                   |[Animation, Children, Drama, Musical, Romance]   |\n",
      "|2  |43 |Restoration (1995)                                  |[Drama]                                          |\n",
      "|2  |7  |Sabrina (1995)                                      |[Comedy, Romance]                                |\n",
      "|2  |76 |Screamers (1995)                                    |[Action, Sci-Fi, Thriller]                       |\n",
      "|2  |47 |Seven (a.k.a. Se7en) (1995)                         |[Mystery, Thriller]                              |\n",
      "|2  |98 |Shopping (1994)                                     |[Action, Thriller]                               |\n",
      "|2  |81 |Things to Do in Denver When You're Dead (1995)      |[Crime, Drama, Romance]                          |\n",
      "|2  |49 |When Night Is Falling (1995)                        |[Drama, Romance]                                 |\n",
      "|2  |28 |Persuasion (1995)                                   |[Drama, Romance]                                 |\n",
      "+---+---+----------------------------------------------------+-------------------------------------------------+\n",
      "\n"
     ]
    }
   ],
   "source": [
    "film2 = film1.repartitionByRange(3, col('p'))\n",
    "showPartitions(film2,20)"
   ]
  },
  {
   "cell_type": "code",
   "execution_count": 23,
   "metadata": {
    "colab": {
     "base_uri": "https://localhost:8080/"
    },
    "id": "Ac9Xv3JEy6Bu",
    "outputId": "2f5e594d-530a-417a-bf62-ba74a26a568b"
   },
   "outputs": [
    {
     "name": "stdout",
     "output_type": "stream",
     "text": [
      "partition 0\n",
      "+---+---+-------------------------------------+--------------------------------+\n",
      "|p  |nF |titre                                |genres                          |\n",
      "+---+---+-------------------------------------+--------------------------------+\n",
      "|0  |19 |Ace Ventura: When Nature Calls (1995)|[Comedy]                        |\n",
      "|0  |37 |Across the Sea of Time (1995)        |[Documentary, IMAX]             |\n",
      "|0  |11 |American President, The (1995)       |[Comedy, Drama, Romance]        |\n",
      "|0  |85 |Angels and Insects (1995)            |[Drama, Romance]                |\n",
      "|0  |82 |Antonia's Line (Antonia) (1995)      |[Comedy, Drama]                 |\n",
      "|0  |23 |Assassins (1995)                     |[Action, Crime, Thriller]       |\n",
      "|0  |34 |Babe (1995)                          |[Children, Drama]               |\n",
      "|0  |13 |Balto (1995)                         |[Adventure, Animation, Children]|\n",
      "|0  |94 |Beautiful Girls (1996)               |[Comedy, Drama, Romance]        |\n",
      "|0  |74 |Bed of Roses (1996)                  |[Drama, Romance]                |\n",
      "|0  |54 |Big Green, The (1995)                |[Children, Comedy]              |\n",
      "|0  |65 |Bio-Dome (1996)                      |[Comedy]                        |\n",
      "|0  |88 |Black Sheep (1996)                   |[Comedy]                        |\n",
      "|0  |95 |Broken Arrow (1996)                  |[Action, Adventure, Thriller]   |\n",
      "|0  |35 |Carrington (1995)                    |[Drama, Romance]                |\n",
      "+---+---+-------------------------------------+--------------------------------+\n",
      "\n",
      "partition 1\n",
      "+---+---+-----------------------------------------+------------------------------+\n",
      "|p  |nF |titre                                    |genres                        |\n",
      "+---+---+-----------------------------------------+------------------------------+\n",
      "|1  |97 |Hate (Haine, La) (1995)                  |[Crime, Drama]                |\n",
      "|1  |6  |Heat (1995)                              |[Action, Crime, Thriller]     |\n",
      "|1  |99 |Heidi Fleiss: Hollywood Madam (1995)     |[Documentary]                 |\n",
      "|1  |57 |Home for the Holidays (1995)             |[Drama]                       |\n",
      "|1  |46 |How to Make an American Quilt (1995)     |[Drama, Romance]              |\n",
      "|1  |96 |In the Bleak Midwinter (1995)            |[Comedy, Drama]               |\n",
      "|1  |60 |Indian in the Cupboard, The (1995)       |[Adventure, Children, Fantasy]|\n",
      "|1  |38 |It Takes Two (1995)                      |[Children, Comedy]            |\n",
      "|1  |2  |Jumanji (1995)                           |[Adventure, Children, Fantasy]|\n",
      "|1  |79 |Juror, The (1996)                        |[Drama, Thriller]             |\n",
      "|1  |72 |Kicking and Screaming (1995)             |[Comedy, Drama]               |\n",
      "|1  |53 |Lamerica (1994)                          |[Adventure, Drama]            |\n",
      "|1  |84 |Last Summer in the Hamptons (1995)       |[Comedy, Drama]               |\n",
      "|1  |66 |Lawnmower Man 2: Beyond Cyberspace (1996)|[Action, Sci-Fi, Thriller]    |\n",
      "|1  |25 |Leaving Las Vegas (1995)                 |[Drama, Romance]              |\n",
      "+---+---+-----------------------------------------+------------------------------+\n",
      "\n",
      "partition 2\n",
      "+---+---+----------------------------------------------------+----------------------------------------------+\n",
      "|p  |nF |titre                                               |genres                                        |\n",
      "+---+---+----------------------------------------------------+----------------------------------------------+\n",
      "|2  |28 |Persuasion (1995)                                   |[Drama, Romance]                              |\n",
      "|2  |48 |Pocahontas (1995)                                   |[Animation, Children, Drama, Musical, Romance]|\n",
      "|2  |58 |Postman, The (Postino, Il) (1994)                   |[Comedy, Drama, Romance]                      |\n",
      "|2  |24 |Powder (1995)                                       |[Drama, Sci-Fi]                               |\n",
      "|2  |43 |Restoration (1995)                                  |[Drama]                                       |\n",
      "|2  |41 |Richard III (1995)                                  |[Drama, War]                                  |\n",
      "|2  |7  |Sabrina (1995)                                      |[Comedy, Romance]                             |\n",
      "|2  |76 |Screamers (1995)                                    |[Action, Sci-Fi, Thriller]                    |\n",
      "|2  |17 |Sense and Sensibility (1995)                        |[Drama, Romance]                              |\n",
      "|2  |47 |Seven (a.k.a. Se7en) (1995)                         |[Mystery, Thriller]                           |\n",
      "|2  |30 |Shanghai Triad (Yao a yao yao dao waipo qiao) (1995)|[Crime, Drama]                                |\n",
      "|2  |98 |Shopping (1994)                                     |[Action, Thriller]                            |\n",
      "|2  |9  |Sudden Death (1995)                                 |[Action]                                      |\n",
      "|2  |81 |Things to Do in Denver When You're Dead (1995)      |[Crime, Drama, Romance]                       |\n",
      "|2  |45 |To Die For (1995)                                   |[Comedy, Drama, Thriller]                     |\n",
      "+---+---+----------------------------------------------------+----------------------------------------------+\n",
      "\n"
     ]
    }
   ],
   "source": [
    "film_tri_total = film2.sortWithinPartitions('titre')\n",
    "showPartitions(film_tri_total,15)"
   ]
  },
  {
   "cell_type": "markdown",
   "metadata": {
    "id": "Wmg1jC-6Hl-D"
   },
   "source": [
    "## Question 2 : Regrouper les films par genre et les compter\n",
    "\n",
    "En vous inspirant de la fonction *topN*  définir une fonction qui compte le nombre de films par genre. Le schéma du résultat est (genre, n)"
   ]
  },
  {
   "cell_type": "code",
   "execution_count": 32,
   "metadata": {
    "colab": {
     "base_uri": "https://localhost:8080/"
    },
    "id": "hibxU7UT4ilw",
    "outputId": "788c794b-91d7-4531-fe2d-765586017859"
   },
   "outputs": [
    {
     "name": "stdout",
     "output_type": "stream",
     "text": [
      "partition 0\n",
      "+---------+---+\n",
      "|_1       |_2 |\n",
      "+---------+---+\n",
      "|Comedy   |13 |\n",
      "|Drama    |19 |\n",
      "|Romance  |10 |\n",
      "|Thriller |5  |\n",
      "|Children |6  |\n",
      "|Action   |5  |\n",
      "|Crime    |5  |\n",
      "|War      |1  |\n",
      "|Horror   |4  |\n",
      "|Adventure|4  |\n",
      "|Animation|2  |\n",
      "|Sci-Fi   |2  |\n",
      "|Fantasy  |2  |\n",
      "|Mystery  |1  |\n",
      "+---------+---+\n",
      "\n",
      "partition 1\n",
      "+-----------+---+\n",
      "|_1         |_2 |\n",
      "+-----------+---+\n",
      "|Drama      |17 |\n",
      "|Action     |8  |\n",
      "|Romance    |7  |\n",
      "|Children   |4  |\n",
      "|Mystery    |2  |\n",
      "|Comedy     |7  |\n",
      "|Documentary|1  |\n",
      "|Crime      |5  |\n",
      "|Thriller   |8  |\n",
      "|Adventure  |2  |\n",
      "|Fantasy    |1  |\n",
      "|Sci-Fi     |1  |\n",
      "|Animation  |1  |\n",
      "|Musical    |1  |\n",
      "+-----------+---+\n",
      "\n",
      "partition 2\n",
      "+-----------+---+\n",
      "|_1         |_2 |\n",
      "+-----------+---+\n",
      "|Comedy     |11 |\n",
      "|Drama      |14 |\n",
      "|Crime      |4  |\n",
      "|Thriller   |7  |\n",
      "|Action     |4  |\n",
      "|Adventure  |6  |\n",
      "|Children   |2  |\n",
      "|Mystery    |3  |\n",
      "|Horror     |1  |\n",
      "|Documentary|2  |\n",
      "|Romance    |6  |\n",
      "|War        |1  |\n",
      "|Fantasy    |2  |\n",
      "|Sci-Fi     |2  |\n",
      "|IMAX       |1  |\n",
      "+-----------+---+\n",
      "\n"
     ]
    }
   ],
   "source": [
    "def count_par_genre(films):\n",
    "  dic = {}\n",
    "  for film in films:\n",
    "    genres = film.genres\n",
    "    for genre in genres:\n",
    "      c = dic.get(genre, 0)\n",
    "      dic[genre] = c + 1\n",
    "  for genre, count in dic.items():\n",
    "    yield genre, count\n",
    "\n",
    "films_par_genre = film_extrait.rdd.mapPartitions(count_par_genre).toDF()\n",
    "\n",
    "showPartitions(films_par_genre, 15)"
   ]
  },
  {
   "cell_type": "code",
   "execution_count": 29,
   "metadata": {
    "colab": {
     "base_uri": "https://localhost:8080/"
    },
    "id": "sJSHCIq6OHQ0",
    "outputId": "77ff2f90-e033-42ba-92ba-0fd6cab85e19"
   },
   "outputs": [
    {
     "data": {
      "text/plain": [
       "genres\n",
       "(no genres listed)      18\n",
       "Action                1545\n",
       "Adventure             1117\n",
       "Animation              447\n",
       "Children               583\n",
       "Comedy                3315\n",
       "Crime                 1100\n",
       "Documentary            495\n",
       "Drama                 4365\n",
       "Fantasy                654\n",
       "Film-Noir              133\n",
       "Horror                 877\n",
       "IMAX                   153\n",
       "Musical                394\n",
       "Mystery                543\n",
       "Romance               1545\n",
       "Sci-Fi                 792\n",
       "Thriller              1729\n",
       "War                    367\n",
       "Western                168\n",
       "Name: genres, dtype: int64"
      ]
     },
     "execution_count": 29,
     "metadata": {},
     "output_type": "execute_result"
    }
   ],
   "source": [
    "#code pour afficher le nombre total de films par genre dans l'ensemble de données\n",
    "\n",
    "df = films.toPandas().explode('genres').copy().drop_duplicates().groupby(['genres'])['genres'].count()\n",
    "df"
   ]
  },
  {
   "cell_type": "markdown",
   "metadata": {
    "id": "HQ2_f9rZHl-E"
   },
   "source": [
    "## Question 3 : Numérotation\n",
    "\n",
    "En vous inspirant de la fonction *topN*  définir une fonction qui attribue un numéro de 1 à n à chaque tuple de notes_extrait. Le résultat a les attributs de notes + un attribut num."
   ]
  },
  {
   "cell_type": "code",
   "execution_count": 33,
   "metadata": {
    "colab": {
     "base_uri": "https://localhost:8080/"
    },
    "id": "Hpb8lrwLHl-E",
    "outputId": "00737112-06bb-4056-c72a-b112f09ec487"
   },
   "outputs": [
    {
     "name": "stdout",
     "output_type": "stream",
     "text": [
      "partition 0\n",
      "+---+---+---+----+-----+\n",
      "|num|nF |nU |note|annee|\n",
      "+---+---+---+----+-----+\n",
      "|1  |19 |76 |1.5 |2011 |\n",
      "|2  |62 |691|5.0 |1996 |\n",
      "|3  |25 |832|5.0 |1998 |\n",
      "|4  |5  |296|3.5 |2005 |\n",
      "|5  |48 |781|3.0 |1996 |\n",
      "|6  |34 |871|4.0 |2000 |\n",
      "|7  |2  |796|1.5 |2015 |\n",
      "|8  |2  |353|3.0 |2003 |\n",
      "|9  |28 |815|5.0 |1996 |\n",
      "|10 |5  |196|4.0 |1996 |\n",
      "|11 |62 |760|4.0 |1996 |\n",
      "|12 |29 |882|5.0 |1996 |\n",
      "|13 |62 |989|3.0 |1997 |\n",
      "|14 |12 |459|3.0 |2015 |\n",
      "|15 |62 |87 |3.0 |1997 |\n",
      "+---+---+---+----+-----+\n",
      "\n",
      "partition 1\n",
      "+---+---+---+----+-----+\n",
      "|num|nF |nU |note|annee|\n",
      "+---+---+---+----+-----+\n",
      "|1  |15 |875|4.0 |1996 |\n",
      "|2  |62 |368|4.0 |2006 |\n",
      "|3  |29 |592|4.0 |2000 |\n",
      "|4  |31 |767|3.0 |1996 |\n",
      "|5  |25 |339|5.0 |1997 |\n",
      "|6  |34 |682|4.0 |2000 |\n",
      "|7  |19 |63 |0.5 |2007 |\n",
      "|8  |19 |240|1.5 |2003 |\n",
      "|9  |2  |390|2.0 |2005 |\n",
      "|10 |19 |533|3.0 |2000 |\n",
      "|11 |34 |332|2.5 |2009 |\n",
      "|12 |29 |924|4.0 |2015 |\n",
      "|13 |34 |881|4.0 |2006 |\n",
      "|14 |34 |546|5.0 |1996 |\n",
      "|15 |25 |638|4.0 |1996 |\n",
      "+---+---+---+----+-----+\n",
      "\n",
      "partition 2\n",
      "+---+---+---+----+-----+\n",
      "|num|nF |nU |note|annee|\n",
      "+---+---+---+----+-----+\n",
      "|1  |19 |151|2.0 |2004 |\n",
      "|2  |48 |506|4.0 |2010 |\n",
      "|3  |88 |168|3.0 |1996 |\n",
      "|4  |26 |366|5.0 |1997 |\n",
      "|5  |34 |711|2.5 |2009 |\n",
      "|6  |25 |576|4.0 |2000 |\n",
      "|7  |2  |542|3.0 |1996 |\n",
      "|8  |12 |390|3.0 |2000 |\n",
      "|9  |25 |721|4.0 |1996 |\n",
      "|10 |34 |166|3.0 |2016 |\n",
      "|11 |29 |922|0.5 |2009 |\n",
      "|12 |5  |900|3.0 |1997 |\n",
      "|13 |34 |306|4.0 |1996 |\n",
      "|14 |29 |365|4.0 |2001 |\n",
      "|15 |34 |483|3.0 |2004 |\n",
      "+---+---+---+----+-----+\n",
      "\n"
     ]
    }
   ],
   "source": [
    "def numeroter(notes):\n",
    "  for i, note in enumerate(notes):\n",
    "    yield (i+1, *note)\n",
    "\n",
    "nom_col = [\"num\"] + notes_extrait.schema.fieldNames() \n",
    "notes_avec_num = notes_extrait.rdd.mapPartitions(numeroter).toDF(nom_col)\n",
    "\n",
    "showPartitions(notes_avec_num, 15)"
   ]
  },
  {
   "cell_type": "markdown",
   "metadata": {
    "id": "_Xy3qD3sHl-F"
   },
   "source": [
    "## Question 4 : Regrouper et trier\n",
    "\n",
    "Définir une fonction qui affiche le nombre de notes par année dans l'ordre croissant des années"
   ]
  },
  {
   "cell_type": "code",
   "execution_count": 37,
   "metadata": {
    "colab": {
     "base_uri": "https://localhost:8080/"
    },
    "id": "zXW3xXNNHl-F",
    "outputId": "9b383995-0c3e-4ce5-eb41-1974b5dc7caf"
   },
   "outputs": [
    {
     "name": "stdout",
     "output_type": "stream",
     "text": [
      "partition 0\n",
      "+-----+-----+\n",
      "|annee|count|\n",
      "+-----+-----+\n",
      "|1996 |17   |\n",
      "|1997 |6    |\n",
      "|1998 |3    |\n",
      "|1999 |6    |\n",
      "|2000 |3    |\n",
      "|2001 |4    |\n",
      "|2002 |2    |\n",
      "|2003 |5    |\n",
      "|2004 |1    |\n",
      "|2005 |1    |\n",
      "|2006 |2    |\n",
      "|2007 |1    |\n",
      "|2008 |1    |\n",
      "|2011 |1    |\n",
      "|2012 |1    |\n",
      "+-----+-----+\n",
      "\n",
      "partition 1\n",
      "+-----+-----+\n",
      "|annee|count|\n",
      "+-----+-----+\n",
      "|1996 |22   |\n",
      "|1997 |6    |\n",
      "|1999 |1    |\n",
      "|2000 |6    |\n",
      "|2001 |1    |\n",
      "|2002 |1    |\n",
      "|2003 |2    |\n",
      "|2004 |3    |\n",
      "|2005 |2    |\n",
      "|2006 |3    |\n",
      "|2007 |3    |\n",
      "|2009 |3    |\n",
      "|2010 |2    |\n",
      "|2012 |1    |\n",
      "|2014 |1    |\n",
      "+-----+-----+\n",
      "\n",
      "partition 2\n",
      "+-----+-----+\n",
      "|annee|count|\n",
      "+-----+-----+\n",
      "|1996 |13   |\n",
      "|1997 |8    |\n",
      "|1999 |5    |\n",
      "|2000 |5    |\n",
      "|2001 |6    |\n",
      "|2002 |3    |\n",
      "|2003 |2    |\n",
      "|2004 |3    |\n",
      "|2005 |1    |\n",
      "|2006 |4    |\n",
      "|2007 |3    |\n",
      "|2009 |2    |\n",
      "|2010 |1    |\n",
      "|2014 |2    |\n",
      "|2015 |1    |\n",
      "+-----+-----+\n",
      "\n",
      "== Physical Plan ==\n",
      "AdaptiveSparkPlan isFinalPlan=false\n",
      "+- HashAggregate(keys=[annee#92L], functions=[count(1)])\n",
      "   +- Exchange hashpartitioning(annee#92L, 4), ENSURE_REQUIREMENTS, [plan_id=1144]\n",
      "      +- HashAggregate(keys=[annee#92L], functions=[partial_count(1)])\n",
      "         +- FileScan json [annee#92L] Batched: false, DataFilters: [], Format: JSON, Location: InMemoryFileIndex(1 paths)[file:/local/data/notes1M.json], PartitionFilters: [], PushedFilters: [], ReadSchema: struct<annee:bigint>\n",
      "\n",
      "\n"
     ]
    }
   ],
   "source": [
    "def compte_notes(ratings):\n",
    "  counts = {}\n",
    "\n",
    "  for rating in ratings:\n",
    "    year = rating.annee\n",
    "    if year in counts:\n",
    "      counts[year] += 1\n",
    "    else:\n",
    "      counts[year] = 1\n",
    "\n",
    "  #Ordre croissant des années \n",
    "  counts = sorted(counts.items(), key=lambda x: x[0])\n",
    "\n",
    "  for year, count in counts:\n",
    "    yield year, count\n",
    "\n",
    "notes_par_annee = notes_extrait.rdd.mapPartitions(compte_notes).toDF()\n",
    "notes_par_annee = notes_par_annee.withColumnRenamed(\"_1\", \"annee\")\\\n",
    "          .withColumnRenamed(\"_2\", \"count\")\n",
    "\n",
    "showPartitions(notes_par_annee, 15)\n"
   ]
  },
  {
   "cell_type": "code",
   "execution_count": 40,
   "metadata": {
    "colab": {
     "base_uri": "https://localhost:8080/"
    },
    "id": "DTMlmmM9Ehdo",
    "outputId": "8cf4a4fe-8e09-4880-a22a-00d8bea12860"
   },
   "outputs": [
    {
     "name": "stdout",
     "output_type": "stream",
     "text": [
      "+-----+--------+\n",
      "|annee|count(1)|\n",
      "+-----+--------+\n",
      "| 1996|   86449|\n",
      "| 1997|   38310|\n",
      "| 1998|   16506|\n",
      "| 1999|   61508|\n",
      "| 2000|  101580|\n",
      "| 2001|   62315|\n",
      "| 2002|   45606|\n",
      "| 2003|   54165|\n",
      "| 2004|   60046|\n",
      "| 2005|   92707|\n",
      "| 2006|   60595|\n",
      "| 2007|   54775|\n",
      "| 2008|   60693|\n",
      "| 2009|   50128|\n",
      "| 2010|   48991|\n",
      "| 2011|   41492|\n",
      "| 2012|   39625|\n",
      "| 2013|   31631|\n",
      "| 2014|   29274|\n",
      "| 2015|   95630|\n",
      "+-----+--------+\n",
      "only showing top 20 rows\n",
      "\n",
      "== Physical Plan ==\n",
      "AdaptiveSparkPlan isFinalPlan=false\n",
      "+- Sort [annee#92L ASC NULLS FIRST], true, 0\n",
      "   +- Exchange rangepartitioning(annee#92L ASC NULLS FIRST, 4), ENSURE_REQUIREMENTS, [plan_id=1280]\n",
      "      +- HashAggregate(keys=[annee#92L], functions=[count(1)])\n",
      "         +- Exchange hashpartitioning(annee#92L, 4), ENSURE_REQUIREMENTS, [plan_id=1277]\n",
      "            +- HashAggregate(keys=[annee#92L], functions=[partial_count(1)])\n",
      "               +- FileScan json [annee#92L] Batched: false, DataFilters: [], Format: JSON, Location: InMemoryFileIndex(1 paths)[file:/local/data/notes1M.json], PartitionFilters: [], PushedFilters: [], ReadSchema: struct<annee:bigint>\n",
      "\n",
      "\n"
     ]
    }
   ],
   "source": [
    "#code pour afficher le nombre total de notes par année dans l'ensemble de données\n",
    "\n",
    "q4 = notes.groupBy(\"annee\").agg(count(\"*\")).orderBy(\"annee\")\n",
    "q4.show()\n",
    "q4.explain()"
   ]
  },
  {
   "cell_type": "markdown",
   "metadata": {
    "id": "QqKRezpMHl-F"
   },
   "source": [
    "## Question 5 : top fréquence\n",
    "\n",
    "Définir une fonction qui affiche les 5 mots les plus fréquents dans les titres"
   ]
  },
  {
   "cell_type": "code",
   "execution_count": 41,
   "metadata": {
    "colab": {
     "base_uri": "https://localhost:8080/"
    },
    "id": "HwDboRLcHl-G",
    "outputId": "f06eb399-314e-4b2e-92a9-9dd433bb596f"
   },
   "outputs": [
    {
     "name": "stdout",
     "output_type": "stream",
     "text": [
      "partition 0\n",
      "+-----+-----+\n",
      "|word |count|\n",
      "+-----+-----+\n",
      "|The  |3    |\n",
      "|to   |2    |\n",
      "|White|2    |\n",
      "|a    |2    |\n",
      "|Dead |2    |\n",
      "+-----+-----+\n",
      "\n",
      "partition 1\n",
      "+----+-----+\n",
      "|word|count|\n",
      "+----+-----+\n",
      "|the |4    |\n",
      "|When|3    |\n",
      "|The |3    |\n",
      "|in  |3    |\n",
      "|of  |3    |\n",
      "+----+-----+\n",
      "\n",
      "partition 2\n",
      "+----+-----+\n",
      "|word|count|\n",
      "+----+-----+\n",
      "|The |4    |\n",
      "|and |3    |\n",
      "|the |3    |\n",
      "|of  |2    |\n",
      "|Two |2    |\n",
      "+----+-----+\n",
      "\n"
     ]
    }
   ],
   "source": [
    "def top_frequence(films):\n",
    "  # Tokenize the titles into words\n",
    "  nbr_mots = {}\n",
    "\n",
    "  for film in films:\n",
    "    for i, mot in enumerate(film.titre.split(\" \")):\n",
    "      if i == len(film.titre.split(\" \")) - 1:\n",
    "        continue\n",
    "      \n",
    "      if mot in nbr_mots:\n",
    "        nbr_mots[mot] += 1\n",
    "      else:\n",
    "        nbr_mots[mot] = 1\n",
    "  \n",
    "  top_frequent = sorted(nbr_mots.items(), key=lambda x: x[1], reverse=True)[:5]\n",
    "  # Yield the 5 most common words\n",
    "  for mot, count in top_frequent:\n",
    "    yield mot, count\n",
    "\n",
    "names5 = [\"word\", \"count\"]\n",
    "film5 = film_extrait.rdd.mapPartitions(top_frequence).toDF(names5)\n",
    "\n",
    "showPartitions(film5, 15)"
   ]
  },
  {
   "cell_type": "markdown",
   "metadata": {
    "id": "tA5ex_ZaHl-G"
   },
   "source": [
    "## Question 6 : Jointure\n",
    "\n",
    "Définir les fonctions pour calculer la jointure entre les extraits de films et de notes"
   ]
  },
  {
   "cell_type": "code",
   "execution_count": 47,
   "metadata": {
    "colab": {
     "base_uri": "https://localhost:8080/"
    },
    "id": "u8AcNU20Hl-H",
    "outputId": "89bda8bc-d145-4cdb-b51e-5787fa5f6706"
   },
   "outputs": [
    {
     "name": "stdout",
     "output_type": "stream",
     "text": [
      "== Physical Plan ==\n",
      "AdaptiveSparkPlan isFinalPlan=false\n",
      "+- SortMergeJoin [nF#89L], [nF#0L], Inner\n",
      "   :- Sort [nF#89L ASC NULLS FIRST], false, 0\n",
      "   :  +- Exchange hashpartitioning(nF#89L, 4), ENSURE_REQUIREMENTS, [plan_id=1598]\n",
      "   :     +- Filter isnotnull(nF#89L)\n",
      "   :        +- FileScan json [nF#89L,nU#90L,note#91,annee#92L] Batched: false, DataFilters: [isnotnull(nF#89L)], Format: JSON, Location: InMemoryFileIndex(1 paths)[file:/local/data/notes1M.json], PartitionFilters: [], PushedFilters: [IsNotNull(nF)], ReadSchema: struct<nF:bigint,nU:bigint,note:double,annee:bigint>\n",
      "   +- Sort [nF#0L ASC NULLS FIRST], false, 0\n",
      "      +- Exchange hashpartitioning(nF#0L, 4), ENSURE_REQUIREMENTS, [plan_id=1599]\n",
      "         +- Project [nF#0L, titre#1, g#2 AS genres#6]\n",
      "            +- Filter isnotnull(nF#0L)\n",
      "               +- FileScan json [nF#0L,titre#1,g#2] Batched: false, DataFilters: [isnotnull(nF#0L)], Format: JSON, Location: InMemoryFileIndex(1 paths)[file:/local/data/films.json], PartitionFilters: [], PushedFilters: [IsNotNull(nF)], ReadSchema: struct<nF:bigint,titre:string,g:array<string>>\n",
      "\n",
      "\n",
      "DataFrame[nF: bigint, nU: bigint, note: double, annee: bigint, nF: bigint, titre: string, genres: array<string>]\n",
      "+---+----+----+-----+---+--------------+--------------------+\n",
      "| nF|  nU|note|annee| nF|         titre|              genres|\n",
      "+---+----+----+-----+---+--------------+--------------------+\n",
      "|  2| 353| 3.0| 2003|  2|Jumanji (1995)|[Adventure, Child...|\n",
      "|  2| 390| 2.0| 2005|  2|Jumanji (1995)|[Adventure, Child...|\n",
      "|  2| 542| 3.0| 1996|  2|Jumanji (1995)|[Adventure, Child...|\n",
      "|  2| 796| 1.5| 2015|  2|Jumanji (1995)|[Adventure, Child...|\n",
      "|  2|1261| 3.0| 2016|  2|Jumanji (1995)|[Adventure, Child...|\n",
      "|  2|1611| 3.5| 2015|  2|Jumanji (1995)|[Adventure, Child...|\n",
      "|  2|1714| 3.0| 1996|  2|Jumanji (1995)|[Adventure, Child...|\n",
      "|  2|2367| 3.0| 2011|  2|Jumanji (1995)|[Adventure, Child...|\n",
      "|  2|2930| 3.0| 2005|  2|Jumanji (1995)|[Adventure, Child...|\n",
      "|  2|3425| 4.0| 2016|  2|Jumanji (1995)|[Adventure, Child...|\n",
      "|  2|3437| 3.5| 2007|  2|Jumanji (1995)|[Adventure, Child...|\n",
      "|  2|3604| 3.5| 2007|  2|Jumanji (1995)|[Adventure, Child...|\n",
      "|  2|3684| 3.0| 2003|  2|Jumanji (1995)|[Adventure, Child...|\n",
      "|  2|4157| 3.0| 2016|  2|Jumanji (1995)|[Adventure, Child...|\n",
      "|  2|4277| 4.0| 2008|  2|Jumanji (1995)|[Adventure, Child...|\n",
      "|  2|5175| 2.0| 1999|  2|Jumanji (1995)|[Adventure, Child...|\n",
      "|  2|5184| 3.0| 2006|  2|Jumanji (1995)|[Adventure, Child...|\n",
      "|  2|5815| 3.0| 1996|  2|Jumanji (1995)|[Adventure, Child...|\n",
      "|  2|5875| 3.0| 2005|  2|Jumanji (1995)|[Adventure, Child...|\n",
      "|  2|5890| 4.0| 1996|  2|Jumanji (1995)|[Adventure, Child...|\n",
      "+---+----+----+-----+---+--------------+--------------------+\n",
      "only showing top 20 rows\n",
      "\n"
     ]
    }
   ],
   "source": [
    "# def jointure_film_notes\n",
    "\n",
    "q6 = notes.join(films, films.nF == notes.nF)\n",
    "q6.explain()\n",
    "print(q6)\n",
    "q6.show()"
   ]
  }
 ],
 "metadata": {
  "colab": {
   "provenance": [],
   "toc_visible": true
  },
  "kernelspec": {
   "display_name": "Python 3 (ipykernel)",
   "language": "python",
   "name": "python3"
  },
  "language_info": {
   "codemirror_mode": {
    "name": "ipython",
    "version": 3
   },
   "file_extension": ".py",
   "mimetype": "text/x-python",
   "name": "python",
   "nbconvert_exporter": "python",
   "pygments_lexer": "ipython3",
   "version": "3.10.4"
  }
 },
 "nbformat": 4,
 "nbformat_minor": 1
}
